{
 "cells": [
  {
   "cell_type": "code",
   "execution_count": 1,
   "id": "2a03793a-600f-4794-b6b2-113acb28f223",
   "metadata": {},
   "outputs": [
    {
     "data": {
      "text/plain": [
       "'Notebok loads & explores the dataset.\\nIt performs basic cleaning & prepares the data for training.\\n'"
      ]
     },
     "execution_count": 1,
     "metadata": {},
     "output_type": "execute_result"
    }
   ],
   "source": [
    "\"\"\"Notebok loads & explores the dataset.\n",
    "It performs basic cleaning & prepares the data for training.\n",
    "\"\"\""
   ]
  },
  {
   "cell_type": "code",
   "execution_count": 2,
   "id": "c6f8daaf-7eba-4d84-8c04-f404cbd65930",
   "metadata": {},
   "outputs": [],
   "source": [
    "import pathlib\n",
    "import numpy as np\n",
    "import pandas as pd\n",
    "import matplotlib.pyplot as plt"
   ]
  },
  {
   "cell_type": "code",
   "execution_count": 16,
   "id": "d50e2dcd-3359-4383-9149-1245588a9e38",
   "metadata": {},
   "outputs": [],
   "source": [
    "data_path = pathlib.Path('./data/Thesis All Data.xlsx')"
   ]
  },
  {
   "cell_type": "code",
   "execution_count": 17,
   "id": "59bfe576-3638-40cf-a43b-5fafe99b80d3",
   "metadata": {},
   "outputs": [
    {
     "name": "stdout",
     "output_type": "stream",
     "text": [
      "Reading sheet ALL\n"
     ]
    }
   ],
   "source": [
    "df = pd.read_excel(data_path, header = 0, na_values='--', verbose=True, sheet_name='ALL')"
   ]
  },
  {
   "cell_type": "code",
   "execution_count": 18,
   "id": "4fb11df1-b205-41b2-87d6-342182bd8624",
   "metadata": {},
   "outputs": [
    {
     "data": {
      "text/html": [
       "<div>\n",
       "<style scoped>\n",
       "    .dataframe tbody tr th:only-of-type {\n",
       "        vertical-align: middle;\n",
       "    }\n",
       "\n",
       "    .dataframe tbody tr th {\n",
       "        vertical-align: top;\n",
       "    }\n",
       "\n",
       "    .dataframe thead th {\n",
       "        text-align: right;\n",
       "    }\n",
       "</style>\n",
       "<table border=\"1\" class=\"dataframe\">\n",
       "  <thead>\n",
       "    <tr style=\"text-align: right;\">\n",
       "      <th></th>\n",
       "      <th>Depth Of Cut</th>\n",
       "      <th>Feed Rate</th>\n",
       "      <th>Lenght Of Cut</th>\n",
       "      <th>Nofsimnum</th>\n",
       "      <th>Step No.</th>\n",
       "      <th>Time</th>\n",
       "      <th>Load X</th>\n",
       "      <th>Load Y</th>\n",
       "    </tr>\n",
       "  </thead>\n",
       "  <tbody>\n",
       "    <tr>\n",
       "      <th>0</th>\n",
       "      <td>0.2</td>\n",
       "      <td>0.2</td>\n",
       "      <td>1.5</td>\n",
       "      <td>1</td>\n",
       "      <td>-1</td>\n",
       "      <td>0.000000</td>\n",
       "      <td>NaN</td>\n",
       "      <td>NaN</td>\n",
       "    </tr>\n",
       "    <tr>\n",
       "      <th>1</th>\n",
       "      <td>0.2</td>\n",
       "      <td>0.2</td>\n",
       "      <td>1.5</td>\n",
       "      <td>1</td>\n",
       "      <td>1</td>\n",
       "      <td>136680.987801</td>\n",
       "      <td>598346.0</td>\n",
       "      <td>671413.0</td>\n",
       "    </tr>\n",
       "    <tr>\n",
       "      <th>2</th>\n",
       "      <td>0.2</td>\n",
       "      <td>0.2</td>\n",
       "      <td>1.5</td>\n",
       "      <td>1</td>\n",
       "      <td>2</td>\n",
       "      <td>179087.315076</td>\n",
       "      <td>767689.0</td>\n",
       "      <td>738346.0</td>\n",
       "    </tr>\n",
       "    <tr>\n",
       "      <th>3</th>\n",
       "      <td>0.2</td>\n",
       "      <td>0.2</td>\n",
       "      <td>1.5</td>\n",
       "      <td>1</td>\n",
       "      <td>3</td>\n",
       "      <td>213728.844488</td>\n",
       "      <td>889873.0</td>\n",
       "      <td>138438.0</td>\n",
       "    </tr>\n",
       "    <tr>\n",
       "      <th>4</th>\n",
       "      <td>0.2</td>\n",
       "      <td>0.2</td>\n",
       "      <td>1.5</td>\n",
       "      <td>1</td>\n",
       "      <td>4</td>\n",
       "      <td>2483.703739</td>\n",
       "      <td>960976.0</td>\n",
       "      <td>14598.0</td>\n",
       "    </tr>\n",
       "  </tbody>\n",
       "</table>\n",
       "</div>"
      ],
      "text/plain": [
       "   Depth Of Cut  Feed Rate  Lenght Of Cut  Nofsimnum  Step No.           Time  \\\n",
       "0           0.2        0.2            1.5          1        -1       0.000000   \n",
       "1           0.2        0.2            1.5          1         1  136680.987801   \n",
       "2           0.2        0.2            1.5          1         2  179087.315076   \n",
       "3           0.2        0.2            1.5          1         3  213728.844488   \n",
       "4           0.2        0.2            1.5          1         4    2483.703739   \n",
       "\n",
       "     Load X    Load Y  \n",
       "0       NaN       NaN  \n",
       "1  598346.0  671413.0  \n",
       "2  767689.0  738346.0  \n",
       "3  889873.0  138438.0  \n",
       "4  960976.0   14598.0  "
      ]
     },
     "execution_count": 18,
     "metadata": {},
     "output_type": "execute_result"
    }
   ],
   "source": [
    "df.head()"
   ]
  },
  {
   "cell_type": "code",
   "execution_count": 19,
   "id": "ca8bcc62-bfb1-4b6a-94b8-0dbb98455c60",
   "metadata": {},
   "outputs": [
    {
     "data": {
      "text/plain": [
       "2063"
      ]
     },
     "execution_count": 19,
     "metadata": {},
     "output_type": "execute_result"
    }
   ],
   "source": [
    "len(df)"
   ]
  },
  {
   "cell_type": "code",
   "execution_count": 20,
   "id": "dd552a98-74a0-4f59-9b71-7df3734adece",
   "metadata": {},
   "outputs": [
    {
     "data": {
      "text/plain": [
       "array([1])"
      ]
     },
     "execution_count": 20,
     "metadata": {},
     "output_type": "execute_result"
    }
   ],
   "source": [
    "# There are several redundant features that do not add information.\n",
    "# Time, as it is just the time od of the simulation step.\n",
    "# Simulation steps, also do not contain information and are only applicable in simulation environment.\n",
    "# Nofsimnum has only 1s - does not contain information.\n",
    "df['Nofsimnum'].unique()"
   ]
  },
  {
   "cell_type": "code",
   "execution_count": 21,
   "id": "ba1ea212-2fc1-4f95-9141-ad70c521cead",
   "metadata": {},
   "outputs": [],
   "source": [
    "# Remove reduntant features.\n",
    "df = df.loc[:, df.columns != 'Time']\n",
    "df = df.loc[:, df.columns != 'Step No.']\n",
    "df = df.loc[:, df.columns != 'Nofsimnum']"
   ]
  },
  {
   "cell_type": "code",
   "execution_count": 22,
   "id": "c530ae63-b88e-4d1c-bd09-5e6c7be1128c",
   "metadata": {},
   "outputs": [
    {
     "data": {
      "text/html": [
       "<div>\n",
       "<style scoped>\n",
       "    .dataframe tbody tr th:only-of-type {\n",
       "        vertical-align: middle;\n",
       "    }\n",
       "\n",
       "    .dataframe tbody tr th {\n",
       "        vertical-align: top;\n",
       "    }\n",
       "\n",
       "    .dataframe thead th {\n",
       "        text-align: right;\n",
       "    }\n",
       "</style>\n",
       "<table border=\"1\" class=\"dataframe\">\n",
       "  <thead>\n",
       "    <tr style=\"text-align: right;\">\n",
       "      <th></th>\n",
       "      <th>Depth Of Cut</th>\n",
       "      <th>Feed Rate</th>\n",
       "      <th>Lenght Of Cut</th>\n",
       "      <th>Load X</th>\n",
       "      <th>Load Y</th>\n",
       "    </tr>\n",
       "  </thead>\n",
       "  <tbody>\n",
       "    <tr>\n",
       "      <th>0</th>\n",
       "      <td>0.2</td>\n",
       "      <td>0.2</td>\n",
       "      <td>1.5</td>\n",
       "      <td>NaN</td>\n",
       "      <td>NaN</td>\n",
       "    </tr>\n",
       "    <tr>\n",
       "      <th>1</th>\n",
       "      <td>0.2</td>\n",
       "      <td>0.2</td>\n",
       "      <td>1.5</td>\n",
       "      <td>598346.0</td>\n",
       "      <td>671413.0</td>\n",
       "    </tr>\n",
       "    <tr>\n",
       "      <th>2</th>\n",
       "      <td>0.2</td>\n",
       "      <td>0.2</td>\n",
       "      <td>1.5</td>\n",
       "      <td>767689.0</td>\n",
       "      <td>738346.0</td>\n",
       "    </tr>\n",
       "    <tr>\n",
       "      <th>3</th>\n",
       "      <td>0.2</td>\n",
       "      <td>0.2</td>\n",
       "      <td>1.5</td>\n",
       "      <td>889873.0</td>\n",
       "      <td>138438.0</td>\n",
       "    </tr>\n",
       "    <tr>\n",
       "      <th>4</th>\n",
       "      <td>0.2</td>\n",
       "      <td>0.2</td>\n",
       "      <td>1.5</td>\n",
       "      <td>960976.0</td>\n",
       "      <td>14598.0</td>\n",
       "    </tr>\n",
       "  </tbody>\n",
       "</table>\n",
       "</div>"
      ],
      "text/plain": [
       "   Depth Of Cut  Feed Rate  Lenght Of Cut    Load X    Load Y\n",
       "0           0.2        0.2            1.5       NaN       NaN\n",
       "1           0.2        0.2            1.5  598346.0  671413.0\n",
       "2           0.2        0.2            1.5  767689.0  738346.0\n",
       "3           0.2        0.2            1.5  889873.0  138438.0\n",
       "4           0.2        0.2            1.5  960976.0   14598.0"
      ]
     },
     "execution_count": 22,
     "metadata": {},
     "output_type": "execute_result"
    }
   ],
   "source": [
    "df.head()"
   ]
  },
  {
   "cell_type": "code",
   "execution_count": 23,
   "id": "bfbf47cb-ce4c-4299-adc5-df018fb38316",
   "metadata": {},
   "outputs": [],
   "source": [
    "# Clean the NaN values.\n",
    "df = df.dropna()"
   ]
  },
  {
   "cell_type": "code",
   "execution_count": 24,
   "id": "06ba162a-f477-4cc3-81a2-12d5c8876687",
   "metadata": {},
   "outputs": [
    {
     "data": {
      "text/plain": [
       "2058"
      ]
     },
     "execution_count": 24,
     "metadata": {},
     "output_type": "execute_result"
    }
   ],
   "source": [
    "len(df)"
   ]
  },
  {
   "cell_type": "code",
   "execution_count": 25,
   "id": "ac9c6fe6-eaf4-4fde-985e-f5b516fda30b",
   "metadata": {},
   "outputs": [
    {
     "data": {
      "text/html": [
       "<div>\n",
       "<style scoped>\n",
       "    .dataframe tbody tr th:only-of-type {\n",
       "        vertical-align: middle;\n",
       "    }\n",
       "\n",
       "    .dataframe tbody tr th {\n",
       "        vertical-align: top;\n",
       "    }\n",
       "\n",
       "    .dataframe thead th {\n",
       "        text-align: right;\n",
       "    }\n",
       "</style>\n",
       "<table border=\"1\" class=\"dataframe\">\n",
       "  <thead>\n",
       "    <tr style=\"text-align: right;\">\n",
       "      <th></th>\n",
       "      <th>Depth Of Cut</th>\n",
       "      <th>Feed Rate</th>\n",
       "      <th>Lenght Of Cut</th>\n",
       "      <th>Load X</th>\n",
       "      <th>Load Y</th>\n",
       "    </tr>\n",
       "  </thead>\n",
       "  <tbody>\n",
       "    <tr>\n",
       "      <th>1</th>\n",
       "      <td>0.2</td>\n",
       "      <td>0.2</td>\n",
       "      <td>1.5</td>\n",
       "      <td>598346.0</td>\n",
       "      <td>671413.0</td>\n",
       "    </tr>\n",
       "    <tr>\n",
       "      <th>2</th>\n",
       "      <td>0.2</td>\n",
       "      <td>0.2</td>\n",
       "      <td>1.5</td>\n",
       "      <td>767689.0</td>\n",
       "      <td>738346.0</td>\n",
       "    </tr>\n",
       "    <tr>\n",
       "      <th>3</th>\n",
       "      <td>0.2</td>\n",
       "      <td>0.2</td>\n",
       "      <td>1.5</td>\n",
       "      <td>889873.0</td>\n",
       "      <td>138438.0</td>\n",
       "    </tr>\n",
       "    <tr>\n",
       "      <th>4</th>\n",
       "      <td>0.2</td>\n",
       "      <td>0.2</td>\n",
       "      <td>1.5</td>\n",
       "      <td>960976.0</td>\n",
       "      <td>14598.0</td>\n",
       "    </tr>\n",
       "    <tr>\n",
       "      <th>5</th>\n",
       "      <td>0.2</td>\n",
       "      <td>0.2</td>\n",
       "      <td>1.5</td>\n",
       "      <td>998679.0</td>\n",
       "      <td>141208.0</td>\n",
       "    </tr>\n",
       "  </tbody>\n",
       "</table>\n",
       "</div>"
      ],
      "text/plain": [
       "   Depth Of Cut  Feed Rate  Lenght Of Cut    Load X    Load Y\n",
       "1           0.2        0.2            1.5  598346.0  671413.0\n",
       "2           0.2        0.2            1.5  767689.0  738346.0\n",
       "3           0.2        0.2            1.5  889873.0  138438.0\n",
       "4           0.2        0.2            1.5  960976.0   14598.0\n",
       "5           0.2        0.2            1.5  998679.0  141208.0"
      ]
     },
     "execution_count": 25,
     "metadata": {},
     "output_type": "execute_result"
    }
   ],
   "source": [
    "df.head()"
   ]
  },
  {
   "cell_type": "code",
   "execution_count": 26,
   "id": "67ef75e6-6252-4980-9c04-d682e41d186d",
   "metadata": {},
   "outputs": [
    {
     "data": {
      "text/html": [
       "<div>\n",
       "<style scoped>\n",
       "    .dataframe tbody tr th:only-of-type {\n",
       "        vertical-align: middle;\n",
       "    }\n",
       "\n",
       "    .dataframe tbody tr th {\n",
       "        vertical-align: top;\n",
       "    }\n",
       "\n",
       "    .dataframe thead th {\n",
       "        text-align: right;\n",
       "    }\n",
       "</style>\n",
       "<table border=\"1\" class=\"dataframe\">\n",
       "  <thead>\n",
       "    <tr style=\"text-align: right;\">\n",
       "      <th></th>\n",
       "      <th>Depth Of Cut</th>\n",
       "      <th>Feed Rate</th>\n",
       "      <th>Lenght Of Cut</th>\n",
       "      <th>Load X</th>\n",
       "      <th>Load Y</th>\n",
       "    </tr>\n",
       "  </thead>\n",
       "  <tbody>\n",
       "    <tr>\n",
       "      <th>2058</th>\n",
       "      <td>0.2</td>\n",
       "      <td>0.3</td>\n",
       "      <td>0.5</td>\n",
       "      <td>586787.0</td>\n",
       "      <td>280243.0</td>\n",
       "    </tr>\n",
       "    <tr>\n",
       "      <th>2059</th>\n",
       "      <td>0.2</td>\n",
       "      <td>0.3</td>\n",
       "      <td>0.5</td>\n",
       "      <td>611118.0</td>\n",
       "      <td>342393.0</td>\n",
       "    </tr>\n",
       "    <tr>\n",
       "      <th>2060</th>\n",
       "      <td>0.2</td>\n",
       "      <td>0.3</td>\n",
       "      <td>0.5</td>\n",
       "      <td>622466.0</td>\n",
       "      <td>367928.0</td>\n",
       "    </tr>\n",
       "    <tr>\n",
       "      <th>2061</th>\n",
       "      <td>0.2</td>\n",
       "      <td>0.3</td>\n",
       "      <td>0.5</td>\n",
       "      <td>630343.0</td>\n",
       "      <td>380485.0</td>\n",
       "    </tr>\n",
       "    <tr>\n",
       "      <th>2062</th>\n",
       "      <td>0.2</td>\n",
       "      <td>0.3</td>\n",
       "      <td>0.5</td>\n",
       "      <td>632184.0</td>\n",
       "      <td>384579.0</td>\n",
       "    </tr>\n",
       "  </tbody>\n",
       "</table>\n",
       "</div>"
      ],
      "text/plain": [
       "      Depth Of Cut  Feed Rate  Lenght Of Cut    Load X    Load Y\n",
       "2058           0.2        0.3            0.5  586787.0  280243.0\n",
       "2059           0.2        0.3            0.5  611118.0  342393.0\n",
       "2060           0.2        0.3            0.5  622466.0  367928.0\n",
       "2061           0.2        0.3            0.5  630343.0  380485.0\n",
       "2062           0.2        0.3            0.5  632184.0  384579.0"
      ]
     },
     "execution_count": 26,
     "metadata": {},
     "output_type": "execute_result"
    }
   ],
   "source": [
    "df.tail()"
   ]
  },
  {
   "cell_type": "code",
   "execution_count": 27,
   "id": "38633102-c3d0-44e1-b3a9-88b48773df7a",
   "metadata": {},
   "outputs": [
    {
     "name": "stdout",
     "output_type": "stream",
     "text": [
      "Load X min 53.31\n",
      "Load X max 999049.0\n",
      "Load Y min 101.93\n",
      "Load Y max 998309.0\n"
     ]
    }
   ],
   "source": [
    "# Extrapolate min and max versions before normalization, for backward conversion of loads.\n",
    "print(\"Load X min\", df['Load X'].min())\n",
    "print(\"Load X max\", df['Load X'].max())\n",
    "print(\"Load Y min\", df['Load Y'].min())\n",
    "print(\"Load Y max\", df['Load Y'].max())"
   ]
  },
  {
   "cell_type": "code",
   "execution_count": 28,
   "id": "1c1117e9-2f35-4c6f-9788-01741669eeb2",
   "metadata": {},
   "outputs": [],
   "source": [
    "# Normalize the output variables.\n",
    "df['Load X']=(df['Load X']-df['Load X'].min())/(df['Load X'].max()-df['Load X'].min())\n",
    "df['Load Y']=(df['Load X']-df['Load X'].min())/(df['Load X'].max()-df['Load X'].min())"
   ]
  },
  {
   "cell_type": "code",
   "execution_count": 29,
   "id": "35d3e228-f694-459b-8c64-e4aeebe0a530",
   "metadata": {},
   "outputs": [
    {
     "data": {
      "text/html": [
       "<div>\n",
       "<style scoped>\n",
       "    .dataframe tbody tr th:only-of-type {\n",
       "        vertical-align: middle;\n",
       "    }\n",
       "\n",
       "    .dataframe tbody tr th {\n",
       "        vertical-align: top;\n",
       "    }\n",
       "\n",
       "    .dataframe thead th {\n",
       "        text-align: right;\n",
       "    }\n",
       "</style>\n",
       "<table border=\"1\" class=\"dataframe\">\n",
       "  <thead>\n",
       "    <tr style=\"text-align: right;\">\n",
       "      <th></th>\n",
       "      <th>Depth Of Cut</th>\n",
       "      <th>Feed Rate</th>\n",
       "      <th>Lenght Of Cut</th>\n",
       "      <th>Load X</th>\n",
       "      <th>Load Y</th>\n",
       "    </tr>\n",
       "  </thead>\n",
       "  <tbody>\n",
       "    <tr>\n",
       "      <th>1</th>\n",
       "      <td>0.2</td>\n",
       "      <td>0.2</td>\n",
       "      <td>1.5</td>\n",
       "      <td>0.598894</td>\n",
       "      <td>0.598894</td>\n",
       "    </tr>\n",
       "    <tr>\n",
       "      <th>2</th>\n",
       "      <td>0.2</td>\n",
       "      <td>0.2</td>\n",
       "      <td>1.5</td>\n",
       "      <td>0.768407</td>\n",
       "      <td>0.768407</td>\n",
       "    </tr>\n",
       "    <tr>\n",
       "      <th>3</th>\n",
       "      <td>0.2</td>\n",
       "      <td>0.2</td>\n",
       "      <td>1.5</td>\n",
       "      <td>0.890714</td>\n",
       "      <td>0.890714</td>\n",
       "    </tr>\n",
       "    <tr>\n",
       "      <th>4</th>\n",
       "      <td>0.2</td>\n",
       "      <td>0.2</td>\n",
       "      <td>1.5</td>\n",
       "      <td>0.961889</td>\n",
       "      <td>0.961889</td>\n",
       "    </tr>\n",
       "    <tr>\n",
       "      <th>5</th>\n",
       "      <td>0.2</td>\n",
       "      <td>0.2</td>\n",
       "      <td>1.5</td>\n",
       "      <td>0.999630</td>\n",
       "      <td>0.999630</td>\n",
       "    </tr>\n",
       "  </tbody>\n",
       "</table>\n",
       "</div>"
      ],
      "text/plain": [
       "   Depth Of Cut  Feed Rate  Lenght Of Cut    Load X    Load Y\n",
       "1           0.2        0.2            1.5  0.598894  0.598894\n",
       "2           0.2        0.2            1.5  0.768407  0.768407\n",
       "3           0.2        0.2            1.5  0.890714  0.890714\n",
       "4           0.2        0.2            1.5  0.961889  0.961889\n",
       "5           0.2        0.2            1.5  0.999630  0.999630"
      ]
     },
     "execution_count": 29,
     "metadata": {},
     "output_type": "execute_result"
    }
   ],
   "source": [
    "df.head()"
   ]
  },
  {
   "cell_type": "code",
   "execution_count": 14,
   "id": "ce9d25b3-ad29-4ddd-97b9-a91b6bcc96be",
   "metadata": {},
   "outputs": [],
   "source": [
    "# Visualize the cleaned data."
   ]
  },
  {
   "cell_type": "code",
   "execution_count": 15,
   "id": "0674384b-1956-4e54-8488-9c0620cd18a6",
   "metadata": {},
   "outputs": [
    {
     "data": {
      "image/png": "[encoded data removed]",
      "text/plain": [
       "<Figure size 640x480 with 1 Axes>"
      ]
     },
     "metadata": {},
     "output_type": "display_data"
    }
   ],
   "source": [
    "df.plot(x=\"Depth Of Cut\", y=[\"Load X\", \"Load Y\"], kind='line')\n",
    "plt.show()"
   ]
  },
  {
   "cell_type": "code",
   "execution_count": 16,
   "id": "4d5838d9-52bf-4d56-bc04-3e7f2a13e369",
   "metadata": {},
   "outputs": [
    {
     "data": {
      "image/png": "[encoded data removed]",
      "text/plain": [
       "<Figure size 640x480 with 1 Axes>"
      ]
     },
     "metadata": {},
     "output_type": "display_data"
    }
   ],
   "source": [
    "df.plot(x=\"Feed Rate\", y=[\"Load X\", \"Load Y\"], kind='line')\n",
    "plt.show()"
   ]
  },
  {
   "cell_type": "code",
   "execution_count": 17,
   "id": "869706cd-d9d0-4a12-be18-17e2b0b7dc53",
   "metadata": {},
   "outputs": [
    {
     "data": {
      "image/png": "[encoded data removed]",
      "text/plain": [
       "<Figure size 640x480 with 1 Axes>"
      ]
     },
     "metadata": {},
     "output_type": "display_data"
    }
   ],
   "source": [
    "df.plot(x=\"Lenght Of Cut\", y=[\"Load X\", \"Load Y\"], kind='line')\n",
    "plt.show()"
   ]
  },
  {
   "cell_type": "code",
   "execution_count": 92,
   "id": "aa179024-9496-4596-8212-52c5d8eca303",
   "metadata": {},
   "outputs": [],
   "source": [
    "# Export the cleaned data.\n",
    "df.to_csv('./data/thesis_data_cleaned.csv', index=False)"
   ]
  },
  {
   "cell_type": "code",
   "execution_count": null,
   "id": "97e38cc6-eed6-4b02-9cad-b7dd912ce54b",
   "metadata": {},
   "outputs": [],
   "source": []
  }
 ],
 "metadata": {
  "kernelspec": {
   "display_name": "cutting_force",
   "language": "python",
   "name": "cutting_force"
  },
  "language_info": {
   "codemirror_mode": {
    "name": "ipython",
    "version": 3
   },
   "file_extension": ".py",
   "mimetype": "text/x-python",
   "name": "python",
   "nbconvert_exporter": "python",
   "pygments_lexer": "ipython3",
   "version": "3.8.10"
  }
 },
 "nbformat": 4,
 "nbformat_minor": 5
}
