{
 "cells": [
  {
   "cell_type": "code",
   "execution_count": 1,
   "id": "2a03793a-600f-4794-b6b2-113acb28f223",
   "metadata": {},
   "outputs": [
    {
     "data": {
      "text/plain": [
       "'Notebok loads raw simulation data & prepares a dataset ready for training.\\n'"
      ]
     },
     "execution_count": 1,
     "metadata": {},
     "output_type": "execute_result"
    }
   ],
   "source": [
    "\"\"\"Notebok loads raw simulation data & prepares a dataset ready for training.\n",
    "\"\"\""
   ]
  },
  {
   "cell_type": "code",
   "execution_count": 98,
   "id": "c6f8daaf-7eba-4d84-8c04-f404cbd65930",
   "metadata": {},
   "outputs": [],
   "source": [
    "import pathlib\n",
    "import numpy as np\n",
    "import pandas as pd\n",
    "import matplotlib.pyplot as plt\n",
    "import scipy.stats as stats\n",
    "from scipy.special import inv_boxcox\n",
    "from sklearn.model_selection import train_test_split\n",
    "from typing import Type, List"
   ]
  },
  {
   "cell_type": "code",
   "execution_count": 3,
   "id": "af78ec1f-fe2c-4655-9c02-1b9bd13ea452",
   "metadata": {},
   "outputs": [],
   "source": [
    "def extract_step_temperatures(simulation_path: pathlib.Path) -> Type[pd.DataFrame]:\n",
    "    \"\"\"Extracts step temperatures from a single .MSG file in a simulation folder.\n",
    "\n",
    "    Args:\n",
    "        simulation_path: Absolute path to the simulation folder.\n",
    "\n",
    "    Return:\n",
    "        Step - temperature DataFrame.\n",
    "    \"\"\"\n",
    "    print(\"Extracting step temperatures for simulation: \", simulation_path.name)\n",
    "\n",
    "    # Find the largest .MSH file.\n",
    "    msg_files = []\n",
    "    for path in simulation_path.rglob('*'):\n",
    "        if path.suffix == '.MSG':\n",
    "            msg_files.append(path)\n",
    "\n",
    "    msg_file = msg_files[0]\n",
    "\n",
    "    if len(msg_files) > 1:\n",
    "        print(\"There is more than 1 .MSG file in the simulation folder! Parsing only the largest one!\")\n",
    "        file_sizes = []\n",
    "        for msg_file in msg_files:\n",
    "            file_size_bytes = msg_file.stat().st_size\n",
    "            file_sizes.append(file_size_bytes)\n",
    "        print(\"msg_files and sizes: \", msg_files, file_sizes)\n",
    "        file_sizes = np.array(file_sizes)\n",
    "        msg_file = msg_files[np.argmax(file_sizes)]\n",
    "        \n",
    "    if len(msg_files) <= 0:\n",
    "        print(\"No .MSG files found in the simulation folder! Invalid dataset could be produced!\")\n",
    "\n",
    "    # Read all the lines of the .MSG & isolate steps and temperatures.\n",
    "    with open(msg_file, 'r') as f:\n",
    "        lines = f.readlines()\n",
    "    lines = [line.strip() for line in lines]\n",
    "\n",
    "    step_temperatures = {}\n",
    "    step_count = 0\n",
    "    step = None\n",
    "    temperature = None\n",
    "    for line_idx, line in enumerate(lines):\n",
    "        if 'TEMPERATURE CALCULATION FOR STEP :' in line:\n",
    "            step = int(line.split()[-1]) # Step number is expected to be last entry.\n",
    "            step_count += 1\n",
    "        if 'TEMPERATURE ITERATION' in line:\n",
    "            # Only first temperature iteration is considered.\n",
    "            temperature = lines[line_idx + 5] # Expected to be 5 lines below.\n",
    "            temperature = temperature.split()[1] \n",
    "            temperature = float(temperature)\n",
    "        if step and temperature:\n",
    "            step_temperatures[step] = temperature\n",
    "\n",
    "    if step_count != len(step_temperatures):\n",
    "        print(f\".MSG file has unmatched number of steps and temperature calculations! Steps: {step_count}, Temperatures: {len(step_temperatures)}\")\n",
    "\n",
    "    # Create the output DataFrame.\n",
    "    df = pd.json_normalize(step_temperatures)\n",
    "    \n",
    "    df = df.T\n",
    "    df = df.sort_index(ascending=True)\n",
    "    df.index.rename(\"step\", inplace=True)\n",
    "    df.rename(columns = {0: \"temperature\"}, inplace=True)\n",
    "    \n",
    "    return df"
   ]
  },
  {
   "cell_type": "code",
   "execution_count": 4,
   "id": "f1c5dbab-197b-4d0d-beec-be387c12a9a3",
   "metadata": {},
   "outputs": [],
   "source": [
    "def parse_and_process_data_sheet(spread_sheet_path: pathlib.Path, simulation: str) -> Type[pd.DataFrame]:\n",
    "    \"\"\"Parses and pre-processes input data sheet for a given simulation. Function expects that the input spread sheet\n",
    "    contains a sheet for each simulation.\n",
    "\n",
    "    Args:\n",
    "        spread_sheet_path: Absolute path to the spreadsheet.\n",
    "        simulation: Name of the simulation sheet.\n",
    "\n",
    "    Return:\n",
    "        Simulation DataFrame.\n",
    "    \"\"\"\n",
    "    print(\"Parsing the data sheet for simulation: \", simulation)\n",
    "    \n",
    "    try:\n",
    "        df = pd.read_excel(spread_sheet_path, header = 0, na_values='--', verbose=True, sheet_name=simulation)\n",
    "    except ValueError:\n",
    "        print(\"Invalid sheet name!\")\n",
    "    \n",
    "    # Try with upper case simulation name.\n",
    "    try:\n",
    "        df = pd.read_excel(spread_sheet_path, header = 0, na_values='--', verbose=True, sheet_name=simulation.upper()) \n",
    "    except ValueError:\n",
    "        print(\"Invalid sheet name!\")\n",
    "\n",
    "    # Remove reduntant features.\n",
    "    # There are several redundant features that do not add information.\n",
    "    # Time, as it is just the time od of the simulation step.\n",
    "    # Simulation steps, also do not contain information and are only applicable in simulation environment.\n",
    "    # Nofsimnum has only 1s - does not contain information.\n",
    "    df = df.loc[:, df.columns != 'Time']\n",
    "    df = df.loc[:, df.columns != 'Step No.']\n",
    "    df = df.loc[:, df.columns != 'Nofsimnum']\n",
    "\n",
    "    # Clean the NaN values.\n",
    "    df = df.dropna()\n",
    "\n",
    "    return df"
   ]
  },
  {
   "cell_type": "code",
   "execution_count": 5,
   "id": "83974e2a-5b13-449f-b3bd-cb6a0da273e9",
   "metadata": {},
   "outputs": [],
   "source": [
    "def merge_dfs(step_temperatures: Type[pd.DataFrame], \n",
    "              simulation_data_sheet: Type[pd.DataFrame], \n",
    "              simulation: str) -> Type[pd.DataFrame]:\n",
    "    \"\"\"Merges the step temperature and simulation data sheet data for a single simulation.\n",
    "    \n",
    "    Args:\n",
    "        step_temperatures: Step-temperature data.\n",
    "        simulation_data_sheet: Simulation data.\n",
    "        simulation: Name of the simulation.\n",
    "\n",
    "    Returns:\n",
    "        Merged dataframe.\n",
    "    \"\"\"\n",
    "    print(f\"Merging the step-temperature and simulation data sheet for simulation {simulation}!\")    \n",
    "    if len(step_temperatures) != len(simulation_data_sheet):\n",
    "        print(f\"Temperature is not available for all the steps of the simulation {simulation}! Only steps with computed temperature will be\"\n",
    "              f\"taken into account\")\n",
    "        print(\"No. of steps: \", len(step_temperatures))\n",
    "        print(\"No. of simulation steps: \", len(simulation_data_sheet))\n",
    "\n",
    "    # Find the largest overlap of simulation steps, in case the simulation_data_sheet has less steps then the step-temperatures.\n",
    "    simulation_data_sheet_indices = simulation_data_sheet.index.to_numpy()\n",
    "    step_temperatures_indices = step_temperatures.index.to_numpy()\n",
    "\n",
    "    merged_indices = np.intersect1d(simulation_data_sheet_indices, step_temperatures_indices)\n",
    "\n",
    "    merged_df = simulation_data_sheet.loc[merged_indices] # loc is label based, so it start from 1 in this case!\n",
    "\n",
    "    # Insert a temperature column.\n",
    "    merged_df.insert(loc = 0,\n",
    "              column = 'Temperature',\n",
    "              value = step_temperatures['temperature'])\n",
    "\n",
    "    return merged_df"
   ]
  },
  {
   "cell_type": "code",
   "execution_count": 6,
   "id": "7acd8036-a643-472a-b17f-d8d3ee0c9758",
   "metadata": {},
   "outputs": [],
   "source": [
    "def plot_heatmap(x: np.ndarray, labels: List[str], title: str) -> None:\n",
    "    \"\"\"Plots a symmetrical 2D heatmap of the input data.\n",
    "    \n",
    "    Args:\n",
    "        x: Input data, has to be a symmetrical 2D array.\n",
    "        labels: Labels of the data.\n",
    "        title: Title of the heatmap.\n",
    "    \"\"\"\n",
    "    fig, ax = plt.subplots()\n",
    "    im = ax.imshow(x, cmap='hot')\n",
    "\n",
    "    # Set the tick labels.\n",
    "    ax.set_xticks(np.arange(len(labels)), labels=labels)\n",
    "    ax.set_yticks(np.arange(len(labels)), labels=labels)\n",
    "\n",
    "    # Rotate the tick labels and set their alignment.\n",
    "    plt.setp(ax.get_xticklabels(), rotation=45, ha='right',\n",
    "             rotation_mode='anchor')\n",
    "\n",
    "    # Create data annotations.\n",
    "    for i in range(len(labels)):\n",
    "        for j in range(len(labels)):\n",
    "            text = ax.text(j, i, x[i, j],\n",
    "                           ha='center', va='center', color='g', fontsize = 8)\n",
    "            \n",
    "    ax.set_title(f'{title} - Heatmnap')\n",
    "\n",
    "    plt.show()"
   ]
  },
  {
   "cell_type": "markdown",
   "id": "c7658709-dcc4-4a8c-b9f0-77beedf090a6",
   "metadata": {},
   "source": [
    "# Load the input data"
   ]
  },
  {
   "cell_type": "code",
   "execution_count": 7,
   "id": "a70facac-23ad-4fce-880a-8562263efd8d",
   "metadata": {},
   "outputs": [],
   "source": [
    "# Dataset is created out of multiple simulation data. Each simulation data has it's folder \n",
    "# (with relevant .MSG file - containing temperatures) and corresponding .xlsx sheet\n",
    "# (with output variables - load x and y, and other input variables - depth of cut, feed rate, length of cut).\n",
    "simulations = [\n",
    "    'v1',\n",
    "    'v2',\n",
    "    'v3',\n",
    "    'v10',\n",
    "    'v11',\n",
    "    'v12',\n",
    "    'v13',\n",
    "    'v14',\n",
    "    'v15',\n",
    "    'v16'\n",
    "] "
   ]
  },
  {
   "cell_type": "code",
   "execution_count": 8,
   "id": "f3cc5bc1-f894-47e8-889a-3af0efd8c4ce",
   "metadata": {},
   "outputs": [],
   "source": [
    "simulations_path = pathlib.Path('./data/simulations')\n",
    "spread_sheet_path = pathlib.Path('./data/Thesis All Data Last.xlsx')"
   ]
  },
  {
   "cell_type": "markdown",
   "id": "030c4c1e-bd45-4f0c-af88-84d3da2bc1d9",
   "metadata": {},
   "source": [
    "# Parse the .MSG files"
   ]
  },
  {
   "cell_type": "code",
   "execution_count": 9,
   "id": "7797aeea-230c-417a-afdf-49f17ac9cc14",
   "metadata": {},
   "outputs": [],
   "source": [
    "example_simulation_idx = 1"
   ]
  },
  {
   "cell_type": "code",
   "execution_count": 10,
   "id": "f7d66353-01bd-45a5-9723-0d20531fefaa",
   "metadata": {},
   "outputs": [
    {
     "name": "stdout",
     "output_type": "stream",
     "text": [
      "Simulation:  v2\n"
     ]
    }
   ],
   "source": [
    "simulation_path = simulations_path / pathlib.Path(simulations[example_simulation_idx])\n",
    "print(\"Simulation: \", simulations[example_simulation_idx])"
   ]
  },
  {
   "cell_type": "code",
   "execution_count": 11,
   "id": "a1a161b8-31d0-499f-8b58-6b8f53865029",
   "metadata": {},
   "outputs": [],
   "source": [
    "msg_files = []\n",
    "for path in simulation_path.rglob('*'):\n",
    "    if path.suffix == '.MSG':\n",
    "        msg_files.append(path)"
   ]
  },
  {
   "cell_type": "code",
   "execution_count": 12,
   "id": "5291dedc-b15e-4b29-a75a-60c2a0beeedf",
   "metadata": {},
   "outputs": [],
   "source": [
    "msg_file = msg_files[0]\n",
    "\n",
    "if len(msg_files) > 1:\n",
    "    print(\"There is more than 1 .MSG file in the simulation folder! Parsing only the largest one!\")\n",
    "    file_sizes = []\n",
    "    for msg_file in msg_files:\n",
    "        file_size_bytes = msg_file.stat().st_size\n",
    "        file_sizes.append(file_size_bytes)\n",
    "    print(\"msg_files and sizes: \", msg_files, file_sizes)\n",
    "    file_sizes = np.array(file_sizes)\n",
    "    msg_file = msg_files[np.argmax(file_sizes)]\n",
    "    \n",
    "if len(msg_files) <= 0:\n",
    "    print(\"No .MSG files found in the simulation folder! Invalid dataset could be produced!\")"
   ]
  },
  {
   "cell_type": "code",
   "execution_count": 13,
   "id": "6eca13f9-1ebc-4d57-8542-f9492e2b5d5f",
   "metadata": {},
   "outputs": [],
   "source": [
    "# Read all the lines of the .MSG & isolate steps and temperatures.\n",
    "with open(msg_file, 'r') as f:\n",
    "    lines = f.readlines()\n",
    "lines = [line.strip() for line in lines]"
   ]
  },
  {
   "cell_type": "code",
   "execution_count": 14,
   "id": "3ba18262-88c7-47e7-b0b1-47dd4fb02ef5",
   "metadata": {},
   "outputs": [],
   "source": [
    "step_temperatures = {}\n",
    "step_count = 0\n",
    "step = None\n",
    "temperature = None\n",
    "for line_idx, line in enumerate(lines):\n",
    "    if 'TEMPERATURE CALCULATION FOR STEP :' in line:\n",
    "        step = int(line.split()[-1]) # Step number is expected to be last entry.\n",
    "        step_count += 1\n",
    "    if 'TEMPERATURE ITERATION' in line:\n",
    "        # Only first temperature iteration is considered.\n",
    "        temperature = lines[line_idx + 5] # Expected to be 5 lines below.\n",
    "        temperature = temperature.split()[1]\n",
    "        temperature = float(temperature)\n",
    "\n",
    "    if step and temperature:\n",
    "        step_temperatures[step] = temperature"
   ]
  },
  {
   "cell_type": "code",
   "execution_count": 15,
   "id": "8cbced31-f754-4a03-80cc-95fa74142d53",
   "metadata": {},
   "outputs": [],
   "source": [
    "if step_count != len(step_temperatures):\n",
    "    print(f\".MSG file has unmatched number of steps and temperature calculations! Steps: {step_count}, Temperatures: {len(step_temperatures)}\")"
   ]
  },
  {
   "cell_type": "code",
   "execution_count": 16,
   "id": "ce338c33-3510-455b-a519-65b7be60e6c5",
   "metadata": {},
   "outputs": [],
   "source": [
    "# Create the output DataFrame.\n",
    "df = pd.json_normalize(step_temperatures)"
   ]
  },
  {
   "cell_type": "code",
   "execution_count": 17,
   "id": "c73b5cb6-0d8a-466b-9251-dd3e1f474965",
   "metadata": {},
   "outputs": [],
   "source": [
    "df = df.T\n",
    "df = df.sort_index(ascending=True)\n",
    "df.index.rename(\"step\", inplace=True)\n",
    "df.rename(columns = {0: \"temperature\"}, inplace=True)"
   ]
  },
  {
   "cell_type": "code",
   "execution_count": 18,
   "id": "128e6772-e1ec-4045-82d7-b976f3e8fd65",
   "metadata": {},
   "outputs": [
    {
     "data": {
      "text/html": [
       "<div>\n",
       "<style scoped>\n",
       "    .dataframe tbody tr th:only-of-type {\n",
       "        vertical-align: middle;\n",
       "    }\n",
       "\n",
       "    .dataframe tbody tr th {\n",
       "        vertical-align: top;\n",
       "    }\n",
       "\n",
       "    .dataframe thead th {\n",
       "        text-align: right;\n",
       "    }\n",
       "</style>\n",
       "<table border=\"1\" class=\"dataframe\">\n",
       "  <thead>\n",
       "    <tr style=\"text-align: right;\">\n",
       "      <th></th>\n",
       "      <th>temperature</th>\n",
       "    </tr>\n",
       "    <tr>\n",
       "      <th>step</th>\n",
       "      <th></th>\n",
       "    </tr>\n",
       "  </thead>\n",
       "  <tbody>\n",
       "    <tr>\n",
       "      <th>1</th>\n",
       "      <td>2011.467126</td>\n",
       "    </tr>\n",
       "    <tr>\n",
       "      <th>2</th>\n",
       "      <td>2014.513224</td>\n",
       "    </tr>\n",
       "    <tr>\n",
       "      <th>3</th>\n",
       "      <td>2014.976244</td>\n",
       "    </tr>\n",
       "    <tr>\n",
       "      <th>4</th>\n",
       "      <td>2015.108007</td>\n",
       "    </tr>\n",
       "    <tr>\n",
       "      <th>5</th>\n",
       "      <td>2016.710887</td>\n",
       "    </tr>\n",
       "    <tr>\n",
       "      <th>...</th>\n",
       "      <td>...</td>\n",
       "    </tr>\n",
       "    <tr>\n",
       "      <th>206</th>\n",
       "      <td>4371.465944</td>\n",
       "    </tr>\n",
       "    <tr>\n",
       "      <th>207</th>\n",
       "      <td>4381.667321</td>\n",
       "    </tr>\n",
       "    <tr>\n",
       "      <th>208</th>\n",
       "      <td>4389.571290</td>\n",
       "    </tr>\n",
       "    <tr>\n",
       "      <th>209</th>\n",
       "      <td>4397.283621</td>\n",
       "    </tr>\n",
       "    <tr>\n",
       "      <th>210</th>\n",
       "      <td>4397.283621</td>\n",
       "    </tr>\n",
       "  </tbody>\n",
       "</table>\n",
       "<p>210 rows × 1 columns</p>\n",
       "</div>"
      ],
      "text/plain": [
       "      temperature\n",
       "step             \n",
       "1     2011.467126\n",
       "2     2014.513224\n",
       "3     2014.976244\n",
       "4     2015.108007\n",
       "5     2016.710887\n",
       "...           ...\n",
       "206   4371.465944\n",
       "207   4381.667321\n",
       "208   4389.571290\n",
       "209   4397.283621\n",
       "210   4397.283621\n",
       "\n",
       "[210 rows x 1 columns]"
      ]
     },
     "execution_count": 18,
     "metadata": {},
     "output_type": "execute_result"
    }
   ],
   "source": [
    "df"
   ]
  },
  {
   "cell_type": "code",
   "execution_count": 19,
   "id": "a520aa5a-7390-4cf6-bb2c-ab10f326c90a",
   "metadata": {},
   "outputs": [
    {
     "name": "stdout",
     "output_type": "stream",
     "text": [
      "Extracting step temperatures for simulation:  v1\n",
      "Extracting step temperatures for simulation:  v2\n",
      "Extracting step temperatures for simulation:  v3\n",
      "There is more than 1 .MSG file in the simulation folder! Parsing only the largest one!\n",
      "msg_files and sizes:  [PosixPath('data/simulations/v3/Tez_v3.MSG'), PosixPath('data/simulations/v3/INTVAR.MSG')] [36195, 136]\n",
      "Extracting step temperatures for simulation:  v10\n",
      "There is more than 1 .MSG file in the simulation folder! Parsing only the largest one!\n",
      "msg_files and sizes:  [PosixPath('data/simulations/v10/INTVAR.MSG'), PosixPath('data/simulations/v10/v10.MSG')] [136, 321144]\n",
      "Extracting step temperatures for simulation:  v11\n",
      "There is more than 1 .MSG file in the simulation folder! Parsing only the largest one!\n",
      "msg_files and sizes:  [PosixPath('data/simulations/v11/INTVAR.MSG'), PosixPath('data/simulations/v11/v11.MSG')] [136, 395362]\n",
      "Extracting step temperatures for simulation:  v12\n",
      "There is more than 1 .MSG file in the simulation folder! Parsing only the largest one!\n",
      "msg_files and sizes:  [PosixPath('data/simulations/v12/INTVAR.MSG'), PosixPath('data/simulations/v12/v12.MSG')] [136, 405439]\n",
      "Extracting step temperatures for simulation:  v13\n",
      "There is more than 1 .MSG file in the simulation folder! Parsing only the largest one!\n",
      "msg_files and sizes:  [PosixPath('data/simulations/v13/INTVAR.MSG'), PosixPath('data/simulations/v13/v13.MSG')] [136, 253621]\n",
      "Extracting step temperatures for simulation:  v14\n",
      "Extracting step temperatures for simulation:  v15\n",
      "There is more than 1 .MSG file in the simulation folder! Parsing only the largest one!\n",
      "msg_files and sizes:  [PosixPath('data/simulations/v15/vbilmemne.MSG'), PosixPath('data/simulations/v15/INTVAR.MSG')] [163922, 136]\n",
      "Extracting step temperatures for simulation:  v16\n",
      "There is more than 1 .MSG file in the simulation folder! Parsing only the largest one!\n",
      "msg_files and sizes:  [PosixPath('data/simulations/v16/INTVAR.MSG'), PosixPath('data/simulations/v16/v16.MSG')] [136, 300834]\n"
     ]
    }
   ],
   "source": [
    "# Do it for all the simulations.\n",
    "step_temperatures_dfs = {}\n",
    "for simulation in simulations:\n",
    "    simulation_path = simulations_path / pathlib.Path(simulation)\n",
    "    df = extract_step_temperatures(simulation_path)\n",
    "    step_temperatures_dfs[simulation] = df"
   ]
  },
  {
   "cell_type": "code",
   "execution_count": 20,
   "id": "8c5a14b7-0a36-4774-8335-c1e43e950ec6",
   "metadata": {},
   "outputs": [
    {
     "data": {
      "text/html": [
       "<div>\n",
       "<style scoped>\n",
       "    .dataframe tbody tr th:only-of-type {\n",
       "        vertical-align: middle;\n",
       "    }\n",
       "\n",
       "    .dataframe tbody tr th {\n",
       "        vertical-align: top;\n",
       "    }\n",
       "\n",
       "    .dataframe thead th {\n",
       "        text-align: right;\n",
       "    }\n",
       "</style>\n",
       "<table border=\"1\" class=\"dataframe\">\n",
       "  <thead>\n",
       "    <tr style=\"text-align: right;\">\n",
       "      <th></th>\n",
       "      <th>temperature</th>\n",
       "    </tr>\n",
       "    <tr>\n",
       "      <th>step</th>\n",
       "      <th></th>\n",
       "    </tr>\n",
       "  </thead>\n",
       "  <tbody>\n",
       "    <tr>\n",
       "      <th>1</th>\n",
       "      <td>2011.467126</td>\n",
       "    </tr>\n",
       "    <tr>\n",
       "      <th>2</th>\n",
       "      <td>2014.513224</td>\n",
       "    </tr>\n",
       "    <tr>\n",
       "      <th>3</th>\n",
       "      <td>2014.976244</td>\n",
       "    </tr>\n",
       "    <tr>\n",
       "      <th>4</th>\n",
       "      <td>2015.108007</td>\n",
       "    </tr>\n",
       "    <tr>\n",
       "      <th>5</th>\n",
       "      <td>2016.710887</td>\n",
       "    </tr>\n",
       "    <tr>\n",
       "      <th>...</th>\n",
       "      <td>...</td>\n",
       "    </tr>\n",
       "    <tr>\n",
       "      <th>206</th>\n",
       "      <td>4371.465944</td>\n",
       "    </tr>\n",
       "    <tr>\n",
       "      <th>207</th>\n",
       "      <td>4381.667321</td>\n",
       "    </tr>\n",
       "    <tr>\n",
       "      <th>208</th>\n",
       "      <td>4389.571290</td>\n",
       "    </tr>\n",
       "    <tr>\n",
       "      <th>209</th>\n",
       "      <td>4397.283621</td>\n",
       "    </tr>\n",
       "    <tr>\n",
       "      <th>210</th>\n",
       "      <td>4397.283621</td>\n",
       "    </tr>\n",
       "  </tbody>\n",
       "</table>\n",
       "<p>210 rows × 1 columns</p>\n",
       "</div>"
      ],
      "text/plain": [
       "      temperature\n",
       "step             \n",
       "1     2011.467126\n",
       "2     2014.513224\n",
       "3     2014.976244\n",
       "4     2015.108007\n",
       "5     2016.710887\n",
       "...           ...\n",
       "206   4371.465944\n",
       "207   4381.667321\n",
       "208   4389.571290\n",
       "209   4397.283621\n",
       "210   4397.283621\n",
       "\n",
       "[210 rows x 1 columns]"
      ]
     },
     "execution_count": 20,
     "metadata": {},
     "output_type": "execute_result"
    }
   ],
   "source": [
    "step_temperatures_dfs[simulations[example_simulation_idx]]"
   ]
  },
  {
   "cell_type": "markdown",
   "id": "2f2a30dd-e3d2-4142-9a3a-dfb7579a8c69",
   "metadata": {},
   "source": [
    "# Parse the data sheet"
   ]
  },
  {
   "cell_type": "code",
   "execution_count": 21,
   "id": "59bfe576-3638-40cf-a43b-5fafe99b80d3",
   "metadata": {},
   "outputs": [
    {
     "name": "stdout",
     "output_type": "stream",
     "text": [
      "Reading sheet v2\n",
      "Invalid sheet name!\n",
      "Reading sheet V2\n"
     ]
    }
   ],
   "source": [
    "try:\n",
    "    df = pd.read_excel(spread_sheet_path, header = 0, na_values='--', verbose=True, sheet_name=simulations[example_simulation_idx])\n",
    "except ValueError:\n",
    "    print(\"Invalid sheet name!\")\n",
    "\n",
    "# Try with upper case simulation name.\n",
    "try:\n",
    "    df = pd.read_excel(spread_sheet_path, header = 0, na_values='--', verbose=True, sheet_name=simulations[example_simulation_idx].upper()) \n",
    "except ValueError:\n",
    "    print(\"Invalid sheet name!\")"
   ]
  },
  {
   "cell_type": "code",
   "execution_count": 22,
   "id": "4fb11df1-b205-41b2-87d6-342182bd8624",
   "metadata": {},
   "outputs": [
    {
     "data": {
      "text/html": [
       "<div>\n",
       "<style scoped>\n",
       "    .dataframe tbody tr th:only-of-type {\n",
       "        vertical-align: middle;\n",
       "    }\n",
       "\n",
       "    .dataframe tbody tr th {\n",
       "        vertical-align: top;\n",
       "    }\n",
       "\n",
       "    .dataframe thead th {\n",
       "        text-align: right;\n",
       "    }\n",
       "</style>\n",
       "<table border=\"1\" class=\"dataframe\">\n",
       "  <thead>\n",
       "    <tr style=\"text-align: right;\">\n",
       "      <th></th>\n",
       "      <th>Depth Of Cut</th>\n",
       "      <th>Feed Rate</th>\n",
       "      <th>Lenght Of Cut</th>\n",
       "      <th>Nofsimnum</th>\n",
       "      <th>Step No.</th>\n",
       "      <th>Time</th>\n",
       "      <th>Load X</th>\n",
       "      <th>Load Y</th>\n",
       "    </tr>\n",
       "  </thead>\n",
       "  <tbody>\n",
       "    <tr>\n",
       "      <th>0</th>\n",
       "      <td>0.5</td>\n",
       "      <td>0.2</td>\n",
       "      <td>1</td>\n",
       "      <td>1</td>\n",
       "      <td>-1</td>\n",
       "      <td>0.000000</td>\n",
       "      <td>NaN</td>\n",
       "      <td>NaN</td>\n",
       "    </tr>\n",
       "    <tr>\n",
       "      <th>1</th>\n",
       "      <td>0.5</td>\n",
       "      <td>0.2</td>\n",
       "      <td>1</td>\n",
       "      <td>1</td>\n",
       "      <td>1</td>\n",
       "      <td>136680.987801</td>\n",
       "      <td>598346.0</td>\n",
       "      <td>671413.0</td>\n",
       "    </tr>\n",
       "    <tr>\n",
       "      <th>2</th>\n",
       "      <td>0.5</td>\n",
       "      <td>0.2</td>\n",
       "      <td>1</td>\n",
       "      <td>1</td>\n",
       "      <td>2</td>\n",
       "      <td>179087.315076</td>\n",
       "      <td>767689.0</td>\n",
       "      <td>738346.0</td>\n",
       "    </tr>\n",
       "    <tr>\n",
       "      <th>3</th>\n",
       "      <td>0.5</td>\n",
       "      <td>0.2</td>\n",
       "      <td>1</td>\n",
       "      <td>1</td>\n",
       "      <td>3</td>\n",
       "      <td>213728.844488</td>\n",
       "      <td>889873.0</td>\n",
       "      <td>138438.0</td>\n",
       "    </tr>\n",
       "    <tr>\n",
       "      <th>4</th>\n",
       "      <td>0.5</td>\n",
       "      <td>0.2</td>\n",
       "      <td>1</td>\n",
       "      <td>1</td>\n",
       "      <td>4</td>\n",
       "      <td>2483.703739</td>\n",
       "      <td>960976.0</td>\n",
       "      <td>14598.0</td>\n",
       "    </tr>\n",
       "  </tbody>\n",
       "</table>\n",
       "</div>"
      ],
      "text/plain": [
       "   Depth Of Cut  Feed Rate  Lenght Of Cut  Nofsimnum  Step No.           Time  \\\n",
       "0           0.5        0.2              1          1        -1       0.000000   \n",
       "1           0.5        0.2              1          1         1  136680.987801   \n",
       "2           0.5        0.2              1          1         2  179087.315076   \n",
       "3           0.5        0.2              1          1         3  213728.844488   \n",
       "4           0.5        0.2              1          1         4    2483.703739   \n",
       "\n",
       "     Load X    Load Y  \n",
       "0       NaN       NaN  \n",
       "1  598346.0  671413.0  \n",
       "2  767689.0  738346.0  \n",
       "3  889873.0  138438.0  \n",
       "4  960976.0   14598.0  "
      ]
     },
     "execution_count": 22,
     "metadata": {},
     "output_type": "execute_result"
    }
   ],
   "source": [
    "df.head()"
   ]
  },
  {
   "cell_type": "code",
   "execution_count": 23,
   "id": "ca8bcc62-bfb1-4b6a-94b8-0dbb98455c60",
   "metadata": {},
   "outputs": [
    {
     "data": {
      "text/plain": [
       "210"
      ]
     },
     "execution_count": 23,
     "metadata": {},
     "output_type": "execute_result"
    }
   ],
   "source": [
    "len(df)"
   ]
  },
  {
   "cell_type": "code",
   "execution_count": 24,
   "id": "dd552a98-74a0-4f59-9b71-7df3734adece",
   "metadata": {},
   "outputs": [
    {
     "data": {
      "text/plain": [
       "array([1])"
      ]
     },
     "execution_count": 24,
     "metadata": {},
     "output_type": "execute_result"
    }
   ],
   "source": [
    "# There are several redundant features that do not add information.\n",
    "# Time, as it is just the time od of the simulation step.\n",
    "# Simulation steps, also do not contain information and are only applicable in simulation environment.\n",
    "# Nofsimnum has only 1s - does not contain information.\n",
    "df['Nofsimnum'].unique()"
   ]
  },
  {
   "cell_type": "code",
   "execution_count": 25,
   "id": "ba1ea212-2fc1-4f95-9141-ad70c521cead",
   "metadata": {},
   "outputs": [],
   "source": [
    "# Remove reduntant features.\n",
    "df = df.loc[:, df.columns != 'Time']\n",
    "df = df.loc[:, df.columns != 'Step No.']\n",
    "df = df.loc[:, df.columns != 'Nofsimnum']"
   ]
  },
  {
   "cell_type": "code",
   "execution_count": 26,
   "id": "c530ae63-b88e-4d1c-bd09-5e6c7be1128c",
   "metadata": {},
   "outputs": [
    {
     "data": {
      "text/html": [
       "<div>\n",
       "<style scoped>\n",
       "    .dataframe tbody tr th:only-of-type {\n",
       "        vertical-align: middle;\n",
       "    }\n",
       "\n",
       "    .dataframe tbody tr th {\n",
       "        vertical-align: top;\n",
       "    }\n",
       "\n",
       "    .dataframe thead th {\n",
       "        text-align: right;\n",
       "    }\n",
       "</style>\n",
       "<table border=\"1\" class=\"dataframe\">\n",
       "  <thead>\n",
       "    <tr style=\"text-align: right;\">\n",
       "      <th></th>\n",
       "      <th>Depth Of Cut</th>\n",
       "      <th>Feed Rate</th>\n",
       "      <th>Lenght Of Cut</th>\n",
       "      <th>Load X</th>\n",
       "      <th>Load Y</th>\n",
       "    </tr>\n",
       "  </thead>\n",
       "  <tbody>\n",
       "    <tr>\n",
       "      <th>0</th>\n",
       "      <td>0.5</td>\n",
       "      <td>0.2</td>\n",
       "      <td>1</td>\n",
       "      <td>NaN</td>\n",
       "      <td>NaN</td>\n",
       "    </tr>\n",
       "    <tr>\n",
       "      <th>1</th>\n",
       "      <td>0.5</td>\n",
       "      <td>0.2</td>\n",
       "      <td>1</td>\n",
       "      <td>598346.0</td>\n",
       "      <td>671413.0</td>\n",
       "    </tr>\n",
       "    <tr>\n",
       "      <th>2</th>\n",
       "      <td>0.5</td>\n",
       "      <td>0.2</td>\n",
       "      <td>1</td>\n",
       "      <td>767689.0</td>\n",
       "      <td>738346.0</td>\n",
       "    </tr>\n",
       "    <tr>\n",
       "      <th>3</th>\n",
       "      <td>0.5</td>\n",
       "      <td>0.2</td>\n",
       "      <td>1</td>\n",
       "      <td>889873.0</td>\n",
       "      <td>138438.0</td>\n",
       "    </tr>\n",
       "    <tr>\n",
       "      <th>4</th>\n",
       "      <td>0.5</td>\n",
       "      <td>0.2</td>\n",
       "      <td>1</td>\n",
       "      <td>960976.0</td>\n",
       "      <td>14598.0</td>\n",
       "    </tr>\n",
       "  </tbody>\n",
       "</table>\n",
       "</div>"
      ],
      "text/plain": [
       "   Depth Of Cut  Feed Rate  Lenght Of Cut    Load X    Load Y\n",
       "0           0.5        0.2              1       NaN       NaN\n",
       "1           0.5        0.2              1  598346.0  671413.0\n",
       "2           0.5        0.2              1  767689.0  738346.0\n",
       "3           0.5        0.2              1  889873.0  138438.0\n",
       "4           0.5        0.2              1  960976.0   14598.0"
      ]
     },
     "execution_count": 26,
     "metadata": {},
     "output_type": "execute_result"
    }
   ],
   "source": [
    "df.head()"
   ]
  },
  {
   "cell_type": "code",
   "execution_count": 27,
   "id": "bfbf47cb-ce4c-4299-adc5-df018fb38316",
   "metadata": {},
   "outputs": [],
   "source": [
    "# Clean the NaN values.\n",
    "df = df.dropna()"
   ]
  },
  {
   "cell_type": "code",
   "execution_count": 28,
   "id": "06ba162a-f477-4cc3-81a2-12d5c8876687",
   "metadata": {},
   "outputs": [
    {
     "data": {
      "text/plain": [
       "209"
      ]
     },
     "execution_count": 28,
     "metadata": {},
     "output_type": "execute_result"
    }
   ],
   "source": [
    "len(df)"
   ]
  },
  {
   "cell_type": "code",
   "execution_count": 29,
   "id": "ac9c6fe6-eaf4-4fde-985e-f5b516fda30b",
   "metadata": {},
   "outputs": [
    {
     "data": {
      "text/html": [
       "<div>\n",
       "<style scoped>\n",
       "    .dataframe tbody tr th:only-of-type {\n",
       "        vertical-align: middle;\n",
       "    }\n",
       "\n",
       "    .dataframe tbody tr th {\n",
       "        vertical-align: top;\n",
       "    }\n",
       "\n",
       "    .dataframe thead th {\n",
       "        text-align: right;\n",
       "    }\n",
       "</style>\n",
       "<table border=\"1\" class=\"dataframe\">\n",
       "  <thead>\n",
       "    <tr style=\"text-align: right;\">\n",
       "      <th></th>\n",
       "      <th>Depth Of Cut</th>\n",
       "      <th>Feed Rate</th>\n",
       "      <th>Lenght Of Cut</th>\n",
       "      <th>Load X</th>\n",
       "      <th>Load Y</th>\n",
       "    </tr>\n",
       "  </thead>\n",
       "  <tbody>\n",
       "    <tr>\n",
       "      <th>1</th>\n",
       "      <td>0.5</td>\n",
       "      <td>0.2</td>\n",
       "      <td>1</td>\n",
       "      <td>598346.0</td>\n",
       "      <td>671413.0</td>\n",
       "    </tr>\n",
       "    <tr>\n",
       "      <th>2</th>\n",
       "      <td>0.5</td>\n",
       "      <td>0.2</td>\n",
       "      <td>1</td>\n",
       "      <td>767689.0</td>\n",
       "      <td>738346.0</td>\n",
       "    </tr>\n",
       "    <tr>\n",
       "      <th>3</th>\n",
       "      <td>0.5</td>\n",
       "      <td>0.2</td>\n",
       "      <td>1</td>\n",
       "      <td>889873.0</td>\n",
       "      <td>138438.0</td>\n",
       "    </tr>\n",
       "    <tr>\n",
       "      <th>4</th>\n",
       "      <td>0.5</td>\n",
       "      <td>0.2</td>\n",
       "      <td>1</td>\n",
       "      <td>960976.0</td>\n",
       "      <td>14598.0</td>\n",
       "    </tr>\n",
       "    <tr>\n",
       "      <th>5</th>\n",
       "      <td>0.5</td>\n",
       "      <td>0.2</td>\n",
       "      <td>1</td>\n",
       "      <td>998679.0</td>\n",
       "      <td>141208.0</td>\n",
       "    </tr>\n",
       "  </tbody>\n",
       "</table>\n",
       "</div>"
      ],
      "text/plain": [
       "   Depth Of Cut  Feed Rate  Lenght Of Cut    Load X    Load Y\n",
       "1           0.5        0.2              1  598346.0  671413.0\n",
       "2           0.5        0.2              1  767689.0  738346.0\n",
       "3           0.5        0.2              1  889873.0  138438.0\n",
       "4           0.5        0.2              1  960976.0   14598.0\n",
       "5           0.5        0.2              1  998679.0  141208.0"
      ]
     },
     "execution_count": 29,
     "metadata": {},
     "output_type": "execute_result"
    }
   ],
   "source": [
    "df.head()"
   ]
  },
  {
   "cell_type": "code",
   "execution_count": 30,
   "id": "67ef75e6-6252-4980-9c04-d682e41d186d",
   "metadata": {},
   "outputs": [
    {
     "data": {
      "text/html": [
       "<div>\n",
       "<style scoped>\n",
       "    .dataframe tbody tr th:only-of-type {\n",
       "        vertical-align: middle;\n",
       "    }\n",
       "\n",
       "    .dataframe tbody tr th {\n",
       "        vertical-align: top;\n",
       "    }\n",
       "\n",
       "    .dataframe thead th {\n",
       "        text-align: right;\n",
       "    }\n",
       "</style>\n",
       "<table border=\"1\" class=\"dataframe\">\n",
       "  <thead>\n",
       "    <tr style=\"text-align: right;\">\n",
       "      <th></th>\n",
       "      <th>Depth Of Cut</th>\n",
       "      <th>Feed Rate</th>\n",
       "      <th>Lenght Of Cut</th>\n",
       "      <th>Load X</th>\n",
       "      <th>Load Y</th>\n",
       "    </tr>\n",
       "  </thead>\n",
       "  <tbody>\n",
       "    <tr>\n",
       "      <th>205</th>\n",
       "      <td>0.5</td>\n",
       "      <td>0.2</td>\n",
       "      <td>1</td>\n",
       "      <td>354944.00</td>\n",
       "      <td>188467.0</td>\n",
       "    </tr>\n",
       "    <tr>\n",
       "      <th>206</th>\n",
       "      <td>0.5</td>\n",
       "      <td>0.2</td>\n",
       "      <td>1</td>\n",
       "      <td>356115.00</td>\n",
       "      <td>190237.0</td>\n",
       "    </tr>\n",
       "    <tr>\n",
       "      <th>207</th>\n",
       "      <td>0.5</td>\n",
       "      <td>0.2</td>\n",
       "      <td>1</td>\n",
       "      <td>357.55</td>\n",
       "      <td>192446.0</td>\n",
       "    </tr>\n",
       "    <tr>\n",
       "      <th>208</th>\n",
       "      <td>0.5</td>\n",
       "      <td>0.2</td>\n",
       "      <td>1</td>\n",
       "      <td>358412.00</td>\n",
       "      <td>194757.0</td>\n",
       "    </tr>\n",
       "    <tr>\n",
       "      <th>209</th>\n",
       "      <td>0.5</td>\n",
       "      <td>0.2</td>\n",
       "      <td>1</td>\n",
       "      <td>360227.00</td>\n",
       "      <td>196576.0</td>\n",
       "    </tr>\n",
       "  </tbody>\n",
       "</table>\n",
       "</div>"
      ],
      "text/plain": [
       "     Depth Of Cut  Feed Rate  Lenght Of Cut     Load X    Load Y\n",
       "205           0.5        0.2              1  354944.00  188467.0\n",
       "206           0.5        0.2              1  356115.00  190237.0\n",
       "207           0.5        0.2              1     357.55  192446.0\n",
       "208           0.5        0.2              1  358412.00  194757.0\n",
       "209           0.5        0.2              1  360227.00  196576.0"
      ]
     },
     "execution_count": 30,
     "metadata": {},
     "output_type": "execute_result"
    }
   ],
   "source": [
    "df.tail()"
   ]
  },
  {
   "cell_type": "code",
   "execution_count": 31,
   "id": "c00f0f64-f2d3-46a1-ba4e-34149211b35b",
   "metadata": {},
   "outputs": [
    {
     "name": "stdout",
     "output_type": "stream",
     "text": [
      "Parsing the data sheet for simulation:  v1\n",
      "Reading sheet v1\n",
      "Invalid sheet name!\n",
      "Reading sheet V1\n",
      "Parsing the data sheet for simulation:  v2\n",
      "Reading sheet v2\n",
      "Invalid sheet name!\n",
      "Reading sheet V2\n",
      "Parsing the data sheet for simulation:  v3\n",
      "Reading sheet v3\n",
      "Invalid sheet name!\n",
      "Reading sheet V3\n",
      "Parsing the data sheet for simulation:  v10\n",
      "Reading sheet v10\n",
      "Invalid sheet name!\n",
      "Reading sheet V10\n",
      "Parsing the data sheet for simulation:  v11\n",
      "Reading sheet v11\n",
      "Invalid sheet name!\n",
      "Reading sheet V11\n",
      "Parsing the data sheet for simulation:  v12\n",
      "Reading sheet v12\n",
      "Invalid sheet name!\n",
      "Reading sheet V12\n",
      "Parsing the data sheet for simulation:  v13\n",
      "Reading sheet v13\n",
      "Invalid sheet name!\n",
      "Reading sheet V13\n",
      "Parsing the data sheet for simulation:  v14\n",
      "Reading sheet v14\n",
      "Invalid sheet name!\n",
      "Reading sheet V14\n",
      "Parsing the data sheet for simulation:  v15\n",
      "Reading sheet v15\n",
      "Invalid sheet name!\n",
      "Reading sheet V15\n",
      "Parsing the data sheet for simulation:  v16\n",
      "Reading sheet v16\n",
      "Invalid sheet name!\n",
      "Reading sheet V16\n"
     ]
    }
   ],
   "source": [
    "# Do it for all the simulations.\n",
    "simulation_data_sheet_dfs = {}\n",
    "for simulation in simulations:\n",
    "    df = parse_and_process_data_sheet(spread_sheet_path, simulation)\n",
    "    simulation_data_sheet_dfs[simulation] = df"
   ]
  },
  {
   "cell_type": "code",
   "execution_count": 32,
   "id": "38929054-dd4f-45df-9e9c-6f5333c26abf",
   "metadata": {},
   "outputs": [
    {
     "data": {
      "text/html": [
       "<div>\n",
       "<style scoped>\n",
       "    .dataframe tbody tr th:only-of-type {\n",
       "        vertical-align: middle;\n",
       "    }\n",
       "\n",
       "    .dataframe tbody tr th {\n",
       "        vertical-align: top;\n",
       "    }\n",
       "\n",
       "    .dataframe thead th {\n",
       "        text-align: right;\n",
       "    }\n",
       "</style>\n",
       "<table border=\"1\" class=\"dataframe\">\n",
       "  <thead>\n",
       "    <tr style=\"text-align: right;\">\n",
       "      <th></th>\n",
       "      <th>Depth Of Cut</th>\n",
       "      <th>Feed Rate</th>\n",
       "      <th>Lenght Of Cut</th>\n",
       "      <th>Load X</th>\n",
       "      <th>Load Y</th>\n",
       "    </tr>\n",
       "  </thead>\n",
       "  <tbody>\n",
       "    <tr>\n",
       "      <th>1</th>\n",
       "      <td>0.5</td>\n",
       "      <td>0.2</td>\n",
       "      <td>1</td>\n",
       "      <td>598346.0</td>\n",
       "      <td>671413.0</td>\n",
       "    </tr>\n",
       "    <tr>\n",
       "      <th>2</th>\n",
       "      <td>0.5</td>\n",
       "      <td>0.2</td>\n",
       "      <td>1</td>\n",
       "      <td>767689.0</td>\n",
       "      <td>738346.0</td>\n",
       "    </tr>\n",
       "    <tr>\n",
       "      <th>3</th>\n",
       "      <td>0.5</td>\n",
       "      <td>0.2</td>\n",
       "      <td>1</td>\n",
       "      <td>889873.0</td>\n",
       "      <td>138438.0</td>\n",
       "    </tr>\n",
       "    <tr>\n",
       "      <th>4</th>\n",
       "      <td>0.5</td>\n",
       "      <td>0.2</td>\n",
       "      <td>1</td>\n",
       "      <td>960976.0</td>\n",
       "      <td>14598.0</td>\n",
       "    </tr>\n",
       "    <tr>\n",
       "      <th>5</th>\n",
       "      <td>0.5</td>\n",
       "      <td>0.2</td>\n",
       "      <td>1</td>\n",
       "      <td>998679.0</td>\n",
       "      <td>141208.0</td>\n",
       "    </tr>\n",
       "  </tbody>\n",
       "</table>\n",
       "</div>"
      ],
      "text/plain": [
       "   Depth Of Cut  Feed Rate  Lenght Of Cut    Load X    Load Y\n",
       "1           0.5        0.2              1  598346.0  671413.0\n",
       "2           0.5        0.2              1  767689.0  738346.0\n",
       "3           0.5        0.2              1  889873.0  138438.0\n",
       "4           0.5        0.2              1  960976.0   14598.0\n",
       "5           0.5        0.2              1  998679.0  141208.0"
      ]
     },
     "execution_count": 32,
     "metadata": {},
     "output_type": "execute_result"
    }
   ],
   "source": [
    "simulation_data_sheet_dfs[simulations[example_simulation_idx]].head()"
   ]
  },
  {
   "cell_type": "code",
   "execution_count": 33,
   "id": "695eaaee-7d96-4e2c-8bd2-fb33c213a794",
   "metadata": {},
   "outputs": [
    {
     "data": {
      "text/plain": [
       "209"
      ]
     },
     "execution_count": 33,
     "metadata": {},
     "output_type": "execute_result"
    }
   ],
   "source": [
    "len(simulation_data_sheet_dfs[simulations[example_simulation_idx]])"
   ]
  },
  {
   "cell_type": "markdown",
   "id": "ad7e4a9a-af8b-4632-ab71-a67f0740180e",
   "metadata": {},
   "source": [
    "# Merge the step temperatures and data sheets"
   ]
  },
  {
   "cell_type": "code",
   "execution_count": 34,
   "id": "1763bb27-71bd-4e0f-85d5-78d475052228",
   "metadata": {},
   "outputs": [],
   "source": [
    "if len(step_temperatures_dfs) != len(simulation_data_sheet_dfs):\n",
    "    print(\"Number of extracted step - temperatures pairs is not the same as the number of extracted simulation data sheets!\")\n",
    "    print(\"No. of step-temperature pairs: \", len(step_temperatures_dfs))\n",
    "    print(\"No. of simulation data sheets: \", len(simulation_data_sheet_dfs))"
   ]
  },
  {
   "cell_type": "code",
   "execution_count": 35,
   "id": "fda45922-9ae7-4359-b76d-32d99c724d33",
   "metadata": {},
   "outputs": [
    {
     "name": "stdout",
     "output_type": "stream",
     "text": [
      "Temperature is not available for all the steps of the simulation v2! Only steps with computed temperature will betaken into account\n",
      "No. of steps:  210\n",
      "No. of simulation steps:  209\n"
     ]
    }
   ],
   "source": [
    "# Get the corresponding step-temperatures and simulation data sheets.\n",
    "simulation = simulations[1]\n",
    "step_temperatures = step_temperatures_dfs[simulation]\n",
    "simulation_data_sheet = simulation_data_sheet_dfs[simulation]\n",
    "\n",
    "if len(step_temperatures) != len(simulation_data_sheet):\n",
    "    print(f\"Temperature is not available for all the steps of the simulation {simulation}! Only steps with computed temperature will be\"\n",
    "          f\"taken into account\")\n",
    "    print(\"No. of steps: \", len(step_temperatures))\n",
    "    print(\"No. of simulation steps: \", len(simulation_data_sheet))"
   ]
  },
  {
   "cell_type": "code",
   "execution_count": 86,
   "id": "c9d7ba86-7f15-4bf0-9549-afeb76fc7509",
   "metadata": {},
   "outputs": [],
   "source": [
    "# step_temperatures.index.to_list()"
   ]
  },
  {
   "cell_type": "code",
   "execution_count": 37,
   "id": "608d0010-94ee-4ab1-afec-818a080e05b7",
   "metadata": {},
   "outputs": [
    {
     "data": {
      "text/html": [
       "<div>\n",
       "<style scoped>\n",
       "    .dataframe tbody tr th:only-of-type {\n",
       "        vertical-align: middle;\n",
       "    }\n",
       "\n",
       "    .dataframe tbody tr th {\n",
       "        vertical-align: top;\n",
       "    }\n",
       "\n",
       "    .dataframe thead th {\n",
       "        text-align: right;\n",
       "    }\n",
       "</style>\n",
       "<table border=\"1\" class=\"dataframe\">\n",
       "  <thead>\n",
       "    <tr style=\"text-align: right;\">\n",
       "      <th></th>\n",
       "      <th>Depth Of Cut</th>\n",
       "      <th>Feed Rate</th>\n",
       "      <th>Lenght Of Cut</th>\n",
       "      <th>Load X</th>\n",
       "      <th>Load Y</th>\n",
       "    </tr>\n",
       "  </thead>\n",
       "  <tbody>\n",
       "    <tr>\n",
       "      <th>1</th>\n",
       "      <td>0.5</td>\n",
       "      <td>0.2</td>\n",
       "      <td>1</td>\n",
       "      <td>598346.00</td>\n",
       "      <td>671413.0</td>\n",
       "    </tr>\n",
       "    <tr>\n",
       "      <th>2</th>\n",
       "      <td>0.5</td>\n",
       "      <td>0.2</td>\n",
       "      <td>1</td>\n",
       "      <td>767689.00</td>\n",
       "      <td>738346.0</td>\n",
       "    </tr>\n",
       "    <tr>\n",
       "      <th>3</th>\n",
       "      <td>0.5</td>\n",
       "      <td>0.2</td>\n",
       "      <td>1</td>\n",
       "      <td>889873.00</td>\n",
       "      <td>138438.0</td>\n",
       "    </tr>\n",
       "    <tr>\n",
       "      <th>4</th>\n",
       "      <td>0.5</td>\n",
       "      <td>0.2</td>\n",
       "      <td>1</td>\n",
       "      <td>960976.00</td>\n",
       "      <td>14598.0</td>\n",
       "    </tr>\n",
       "    <tr>\n",
       "      <th>5</th>\n",
       "      <td>0.5</td>\n",
       "      <td>0.2</td>\n",
       "      <td>1</td>\n",
       "      <td>998679.00</td>\n",
       "      <td>141208.0</td>\n",
       "    </tr>\n",
       "    <tr>\n",
       "      <th>...</th>\n",
       "      <td>...</td>\n",
       "      <td>...</td>\n",
       "      <td>...</td>\n",
       "      <td>...</td>\n",
       "      <td>...</td>\n",
       "    </tr>\n",
       "    <tr>\n",
       "      <th>205</th>\n",
       "      <td>0.5</td>\n",
       "      <td>0.2</td>\n",
       "      <td>1</td>\n",
       "      <td>354944.00</td>\n",
       "      <td>188467.0</td>\n",
       "    </tr>\n",
       "    <tr>\n",
       "      <th>206</th>\n",
       "      <td>0.5</td>\n",
       "      <td>0.2</td>\n",
       "      <td>1</td>\n",
       "      <td>356115.00</td>\n",
       "      <td>190237.0</td>\n",
       "    </tr>\n",
       "    <tr>\n",
       "      <th>207</th>\n",
       "      <td>0.5</td>\n",
       "      <td>0.2</td>\n",
       "      <td>1</td>\n",
       "      <td>357.55</td>\n",
       "      <td>192446.0</td>\n",
       "    </tr>\n",
       "    <tr>\n",
       "      <th>208</th>\n",
       "      <td>0.5</td>\n",
       "      <td>0.2</td>\n",
       "      <td>1</td>\n",
       "      <td>358412.00</td>\n",
       "      <td>194757.0</td>\n",
       "    </tr>\n",
       "    <tr>\n",
       "      <th>209</th>\n",
       "      <td>0.5</td>\n",
       "      <td>0.2</td>\n",
       "      <td>1</td>\n",
       "      <td>360227.00</td>\n",
       "      <td>196576.0</td>\n",
       "    </tr>\n",
       "  </tbody>\n",
       "</table>\n",
       "<p>209 rows × 5 columns</p>\n",
       "</div>"
      ],
      "text/plain": [
       "     Depth Of Cut  Feed Rate  Lenght Of Cut     Load X    Load Y\n",
       "1             0.5        0.2              1  598346.00  671413.0\n",
       "2             0.5        0.2              1  767689.00  738346.0\n",
       "3             0.5        0.2              1  889873.00  138438.0\n",
       "4             0.5        0.2              1  960976.00   14598.0\n",
       "5             0.5        0.2              1  998679.00  141208.0\n",
       "..            ...        ...            ...        ...       ...\n",
       "205           0.5        0.2              1  354944.00  188467.0\n",
       "206           0.5        0.2              1  356115.00  190237.0\n",
       "207           0.5        0.2              1     357.55  192446.0\n",
       "208           0.5        0.2              1  358412.00  194757.0\n",
       "209           0.5        0.2              1  360227.00  196576.0\n",
       "\n",
       "[209 rows x 5 columns]"
      ]
     },
     "execution_count": 37,
     "metadata": {},
     "output_type": "execute_result"
    }
   ],
   "source": [
    "simulation_data_sheet"
   ]
  },
  {
   "cell_type": "code",
   "execution_count": 38,
   "id": "5cbfdb75-9a85-4e4f-99c7-45a860ef0d98",
   "metadata": {},
   "outputs": [],
   "source": [
    "# Find the largest overlap of simulation steps, in case the simulation_data_sheet has less steps then the step-temperatures.\n",
    "simulation_data_sheet_indices = simulation_data_sheet.index.to_numpy()\n",
    "step_temperatures_indices = step_temperatures.index.to_numpy()"
   ]
  },
  {
   "cell_type": "code",
   "execution_count": 39,
   "id": "24f40307-1b69-45d1-b1bd-d6499ec17e07",
   "metadata": {},
   "outputs": [],
   "source": [
    "merged_indices = np.intersect1d(simulation_data_sheet_indices, step_temperatures_indices)"
   ]
  },
  {
   "cell_type": "code",
   "execution_count": 40,
   "id": "be058937-6623-41d1-aee1-a2bb71d9ccb2",
   "metadata": {},
   "outputs": [
    {
     "data": {
      "text/plain": [
       "array([  1,   2,   3,   4,   5,   6,   7,   8,   9,  10,  11,  12,  13,\n",
       "        14,  15,  16,  17,  18,  19,  20,  21,  22,  23,  24,  25,  26,\n",
       "        27,  28,  29,  30,  31,  32,  33,  34,  35,  36,  37,  38,  39,\n",
       "        40,  41,  42,  43,  44,  45,  46,  47,  48,  49,  50,  51,  52,\n",
       "        53,  54,  55,  56,  57,  58,  59,  60,  61,  62,  63,  64,  65,\n",
       "        66,  67,  68,  69,  70,  71,  72,  73,  74,  75,  76,  77,  78,\n",
       "        79,  80,  81,  82,  83,  84,  85,  86,  87,  88,  89,  90,  91,\n",
       "        92,  93,  94,  95,  96,  97,  98,  99, 100, 101, 102, 103, 104,\n",
       "       105, 106, 107, 108, 109, 110, 111, 112, 113, 114, 115, 116, 117,\n",
       "       118, 119, 120, 121, 122, 123, 124, 125, 126, 127, 128, 129, 130,\n",
       "       131, 132, 133, 134, 135, 136, 137, 138, 139, 140, 141, 142, 143,\n",
       "       144, 145, 146, 147, 148, 149, 150, 151, 152, 153, 154, 155, 156,\n",
       "       157, 158, 159, 160, 161, 162, 163, 164, 165, 166, 167, 168, 169,\n",
       "       170, 171, 172, 173, 174, 175, 176, 177, 178, 179, 180, 181, 182,\n",
       "       183, 184, 185, 186, 187, 188, 189, 190, 191, 192, 193, 194, 195,\n",
       "       196, 197, 198, 199, 200, 201, 202, 203, 204, 205, 206, 207, 208,\n",
       "       209])"
      ]
     },
     "execution_count": 40,
     "metadata": {},
     "output_type": "execute_result"
    }
   ],
   "source": [
    "merged_indices"
   ]
  },
  {
   "cell_type": "code",
   "execution_count": 41,
   "id": "baf4140f-7594-48ca-a28e-29c9b12712fa",
   "metadata": {},
   "outputs": [],
   "source": [
    "merged_df = simulation_data_sheet.loc[merged_indices] # loc is label based, so it start from 1 in this case!"
   ]
  },
  {
   "cell_type": "code",
   "execution_count": 42,
   "id": "5f64905e-abc2-4dc0-bf15-7d3166aa6a08",
   "metadata": {},
   "outputs": [
    {
     "data": {
      "text/html": [
       "<div>\n",
       "<style scoped>\n",
       "    .dataframe tbody tr th:only-of-type {\n",
       "        vertical-align: middle;\n",
       "    }\n",
       "\n",
       "    .dataframe tbody tr th {\n",
       "        vertical-align: top;\n",
       "    }\n",
       "\n",
       "    .dataframe thead th {\n",
       "        text-align: right;\n",
       "    }\n",
       "</style>\n",
       "<table border=\"1\" class=\"dataframe\">\n",
       "  <thead>\n",
       "    <tr style=\"text-align: right;\">\n",
       "      <th></th>\n",
       "      <th>Depth Of Cut</th>\n",
       "      <th>Feed Rate</th>\n",
       "      <th>Lenght Of Cut</th>\n",
       "      <th>Load X</th>\n",
       "      <th>Load Y</th>\n",
       "    </tr>\n",
       "  </thead>\n",
       "  <tbody>\n",
       "    <tr>\n",
       "      <th>1</th>\n",
       "      <td>0.5</td>\n",
       "      <td>0.2</td>\n",
       "      <td>1</td>\n",
       "      <td>598346.00</td>\n",
       "      <td>671413.0</td>\n",
       "    </tr>\n",
       "    <tr>\n",
       "      <th>2</th>\n",
       "      <td>0.5</td>\n",
       "      <td>0.2</td>\n",
       "      <td>1</td>\n",
       "      <td>767689.00</td>\n",
       "      <td>738346.0</td>\n",
       "    </tr>\n",
       "    <tr>\n",
       "      <th>3</th>\n",
       "      <td>0.5</td>\n",
       "      <td>0.2</td>\n",
       "      <td>1</td>\n",
       "      <td>889873.00</td>\n",
       "      <td>138438.0</td>\n",
       "    </tr>\n",
       "    <tr>\n",
       "      <th>4</th>\n",
       "      <td>0.5</td>\n",
       "      <td>0.2</td>\n",
       "      <td>1</td>\n",
       "      <td>960976.00</td>\n",
       "      <td>14598.0</td>\n",
       "    </tr>\n",
       "    <tr>\n",
       "      <th>5</th>\n",
       "      <td>0.5</td>\n",
       "      <td>0.2</td>\n",
       "      <td>1</td>\n",
       "      <td>998679.00</td>\n",
       "      <td>141208.0</td>\n",
       "    </tr>\n",
       "    <tr>\n",
       "      <th>...</th>\n",
       "      <td>...</td>\n",
       "      <td>...</td>\n",
       "      <td>...</td>\n",
       "      <td>...</td>\n",
       "      <td>...</td>\n",
       "    </tr>\n",
       "    <tr>\n",
       "      <th>205</th>\n",
       "      <td>0.5</td>\n",
       "      <td>0.2</td>\n",
       "      <td>1</td>\n",
       "      <td>354944.00</td>\n",
       "      <td>188467.0</td>\n",
       "    </tr>\n",
       "    <tr>\n",
       "      <th>206</th>\n",
       "      <td>0.5</td>\n",
       "      <td>0.2</td>\n",
       "      <td>1</td>\n",
       "      <td>356115.00</td>\n",
       "      <td>190237.0</td>\n",
       "    </tr>\n",
       "    <tr>\n",
       "      <th>207</th>\n",
       "      <td>0.5</td>\n",
       "      <td>0.2</td>\n",
       "      <td>1</td>\n",
       "      <td>357.55</td>\n",
       "      <td>192446.0</td>\n",
       "    </tr>\n",
       "    <tr>\n",
       "      <th>208</th>\n",
       "      <td>0.5</td>\n",
       "      <td>0.2</td>\n",
       "      <td>1</td>\n",
       "      <td>358412.00</td>\n",
       "      <td>194757.0</td>\n",
       "    </tr>\n",
       "    <tr>\n",
       "      <th>209</th>\n",
       "      <td>0.5</td>\n",
       "      <td>0.2</td>\n",
       "      <td>1</td>\n",
       "      <td>360227.00</td>\n",
       "      <td>196576.0</td>\n",
       "    </tr>\n",
       "  </tbody>\n",
       "</table>\n",
       "<p>209 rows × 5 columns</p>\n",
       "</div>"
      ],
      "text/plain": [
       "     Depth Of Cut  Feed Rate  Lenght Of Cut     Load X    Load Y\n",
       "1             0.5        0.2              1  598346.00  671413.0\n",
       "2             0.5        0.2              1  767689.00  738346.0\n",
       "3             0.5        0.2              1  889873.00  138438.0\n",
       "4             0.5        0.2              1  960976.00   14598.0\n",
       "5             0.5        0.2              1  998679.00  141208.0\n",
       "..            ...        ...            ...        ...       ...\n",
       "205           0.5        0.2              1  354944.00  188467.0\n",
       "206           0.5        0.2              1  356115.00  190237.0\n",
       "207           0.5        0.2              1     357.55  192446.0\n",
       "208           0.5        0.2              1  358412.00  194757.0\n",
       "209           0.5        0.2              1  360227.00  196576.0\n",
       "\n",
       "[209 rows x 5 columns]"
      ]
     },
     "execution_count": 42,
     "metadata": {},
     "output_type": "execute_result"
    }
   ],
   "source": [
    "merged_df"
   ]
  },
  {
   "cell_type": "code",
   "execution_count": 43,
   "id": "abf751db-8293-49c0-a947-b0396910fe1a",
   "metadata": {},
   "outputs": [],
   "source": [
    "# Insert a temperature column.\n",
    "merged_df.insert(loc = 0,\n",
    "          column = 'Temperature',\n",
    "          value = step_temperatures['temperature'])"
   ]
  },
  {
   "cell_type": "code",
   "execution_count": 44,
   "id": "83ff6388-59fc-4e6c-8ffa-0688f00da256",
   "metadata": {},
   "outputs": [
    {
     "data": {
      "text/html": [
       "<div>\n",
       "<style scoped>\n",
       "    .dataframe tbody tr th:only-of-type {\n",
       "        vertical-align: middle;\n",
       "    }\n",
       "\n",
       "    .dataframe tbody tr th {\n",
       "        vertical-align: top;\n",
       "    }\n",
       "\n",
       "    .dataframe thead th {\n",
       "        text-align: right;\n",
       "    }\n",
       "</style>\n",
       "<table border=\"1\" class=\"dataframe\">\n",
       "  <thead>\n",
       "    <tr style=\"text-align: right;\">\n",
       "      <th></th>\n",
       "      <th>Temperature</th>\n",
       "      <th>Depth Of Cut</th>\n",
       "      <th>Feed Rate</th>\n",
       "      <th>Lenght Of Cut</th>\n",
       "      <th>Load X</th>\n",
       "      <th>Load Y</th>\n",
       "    </tr>\n",
       "  </thead>\n",
       "  <tbody>\n",
       "    <tr>\n",
       "      <th>1</th>\n",
       "      <td>2011.467126</td>\n",
       "      <td>0.5</td>\n",
       "      <td>0.2</td>\n",
       "      <td>1</td>\n",
       "      <td>598346.00</td>\n",
       "      <td>671413.0</td>\n",
       "    </tr>\n",
       "    <tr>\n",
       "      <th>2</th>\n",
       "      <td>2014.513224</td>\n",
       "      <td>0.5</td>\n",
       "      <td>0.2</td>\n",
       "      <td>1</td>\n",
       "      <td>767689.00</td>\n",
       "      <td>738346.0</td>\n",
       "    </tr>\n",
       "    <tr>\n",
       "      <th>3</th>\n",
       "      <td>2014.976244</td>\n",
       "      <td>0.5</td>\n",
       "      <td>0.2</td>\n",
       "      <td>1</td>\n",
       "      <td>889873.00</td>\n",
       "      <td>138438.0</td>\n",
       "    </tr>\n",
       "    <tr>\n",
       "      <th>4</th>\n",
       "      <td>2015.108007</td>\n",
       "      <td>0.5</td>\n",
       "      <td>0.2</td>\n",
       "      <td>1</td>\n",
       "      <td>960976.00</td>\n",
       "      <td>14598.0</td>\n",
       "    </tr>\n",
       "    <tr>\n",
       "      <th>5</th>\n",
       "      <td>2016.710887</td>\n",
       "      <td>0.5</td>\n",
       "      <td>0.2</td>\n",
       "      <td>1</td>\n",
       "      <td>998679.00</td>\n",
       "      <td>141208.0</td>\n",
       "    </tr>\n",
       "    <tr>\n",
       "      <th>...</th>\n",
       "      <td>...</td>\n",
       "      <td>...</td>\n",
       "      <td>...</td>\n",
       "      <td>...</td>\n",
       "      <td>...</td>\n",
       "      <td>...</td>\n",
       "    </tr>\n",
       "    <tr>\n",
       "      <th>205</th>\n",
       "      <td>4361.869553</td>\n",
       "      <td>0.5</td>\n",
       "      <td>0.2</td>\n",
       "      <td>1</td>\n",
       "      <td>354944.00</td>\n",
       "      <td>188467.0</td>\n",
       "    </tr>\n",
       "    <tr>\n",
       "      <th>206</th>\n",
       "      <td>4371.465944</td>\n",
       "      <td>0.5</td>\n",
       "      <td>0.2</td>\n",
       "      <td>1</td>\n",
       "      <td>356115.00</td>\n",
       "      <td>190237.0</td>\n",
       "    </tr>\n",
       "    <tr>\n",
       "      <th>207</th>\n",
       "      <td>4381.667321</td>\n",
       "      <td>0.5</td>\n",
       "      <td>0.2</td>\n",
       "      <td>1</td>\n",
       "      <td>357.55</td>\n",
       "      <td>192446.0</td>\n",
       "    </tr>\n",
       "    <tr>\n",
       "      <th>208</th>\n",
       "      <td>4389.571290</td>\n",
       "      <td>0.5</td>\n",
       "      <td>0.2</td>\n",
       "      <td>1</td>\n",
       "      <td>358412.00</td>\n",
       "      <td>194757.0</td>\n",
       "    </tr>\n",
       "    <tr>\n",
       "      <th>209</th>\n",
       "      <td>4397.283621</td>\n",
       "      <td>0.5</td>\n",
       "      <td>0.2</td>\n",
       "      <td>1</td>\n",
       "      <td>360227.00</td>\n",
       "      <td>196576.0</td>\n",
       "    </tr>\n",
       "  </tbody>\n",
       "</table>\n",
       "<p>209 rows × 6 columns</p>\n",
       "</div>"
      ],
      "text/plain": [
       "     Temperature  Depth Of Cut  Feed Rate  Lenght Of Cut     Load X    Load Y\n",
       "1    2011.467126           0.5        0.2              1  598346.00  671413.0\n",
       "2    2014.513224           0.5        0.2              1  767689.00  738346.0\n",
       "3    2014.976244           0.5        0.2              1  889873.00  138438.0\n",
       "4    2015.108007           0.5        0.2              1  960976.00   14598.0\n",
       "5    2016.710887           0.5        0.2              1  998679.00  141208.0\n",
       "..           ...           ...        ...            ...        ...       ...\n",
       "205  4361.869553           0.5        0.2              1  354944.00  188467.0\n",
       "206  4371.465944           0.5        0.2              1  356115.00  190237.0\n",
       "207  4381.667321           0.5        0.2              1     357.55  192446.0\n",
       "208  4389.571290           0.5        0.2              1  358412.00  194757.0\n",
       "209  4397.283621           0.5        0.2              1  360227.00  196576.0\n",
       "\n",
       "[209 rows x 6 columns]"
      ]
     },
     "execution_count": 44,
     "metadata": {},
     "output_type": "execute_result"
    }
   ],
   "source": [
    "merged_df"
   ]
  },
  {
   "cell_type": "code",
   "execution_count": 45,
   "id": "2210a98a-fba2-468d-ae6e-e28ad041a08d",
   "metadata": {},
   "outputs": [
    {
     "name": "stdout",
     "output_type": "stream",
     "text": [
      "Merging the step-temperature and simulation data sheet for simulation v1!\n",
      "Merging the step-temperature and simulation data sheet for simulation v2!\n",
      "Temperature is not available for all the steps of the simulation v2! Only steps with computed temperature will betaken into account\n",
      "No. of steps:  210\n",
      "No. of simulation steps:  209\n",
      "Merging the step-temperature and simulation data sheet for simulation v3!\n",
      "Temperature is not available for all the steps of the simulation v3! Only steps with computed temperature will betaken into account\n",
      "No. of steps:  15\n",
      "No. of simulation steps:  662\n",
      "Merging the step-temperature and simulation data sheet for simulation v10!\n",
      "Temperature is not available for all the steps of the simulation v10! Only steps with computed temperature will betaken into account\n",
      "No. of steps:  100\n",
      "No. of simulation steps:  590\n",
      "Merging the step-temperature and simulation data sheet for simulation v11!\n",
      "Temperature is not available for all the steps of the simulation v11! Only steps with computed temperature will betaken into account\n",
      "No. of steps:  116\n",
      "No. of simulation steps:  240\n",
      "Merging the step-temperature and simulation data sheet for simulation v12!\n",
      "Temperature is not available for all the steps of the simulation v12! Only steps with computed temperature will betaken into account\n",
      "No. of steps:  125\n",
      "No. of simulation steps:  616\n",
      "Merging the step-temperature and simulation data sheet for simulation v13!\n",
      "Merging the step-temperature and simulation data sheet for simulation v14!\n",
      "Temperature is not available for all the steps of the simulation v14! Only steps with computed temperature will betaken into account\n",
      "No. of steps:  117\n",
      "No. of simulation steps:  116\n",
      "Merging the step-temperature and simulation data sheet for simulation v15!\n",
      "Temperature is not available for all the steps of the simulation v15! Only steps with computed temperature will betaken into account\n",
      "No. of steps:  50\n",
      "No. of simulation steps:  496\n",
      "Merging the step-temperature and simulation data sheet for simulation v16!\n"
     ]
    }
   ],
   "source": [
    "# Do it for all the simulations = prepare the dataset.\n",
    "dataset_df_raw = pd.DataFrame()\n",
    "for simulation in simulations:\n",
    "    # Get the corresponding step-temperatures and simulation data sheets.\n",
    "    step_temperatures = step_temperatures_dfs[simulation]\n",
    "    simulation_data_sheet = simulation_data_sheet_dfs[simulation]\n",
    "    merged_df = merge_dfs(step_temperatures, simulation_data_sheet, simulation)\n",
    "    dataset_df_raw = pd.concat([dataset_df_raw, merged_df])"
   ]
  },
  {
   "cell_type": "code",
   "execution_count": 224,
   "id": "6fcfcc9d-4f44-4355-86dd-9b0c88503d89",
   "metadata": {},
   "outputs": [
    {
     "data": {
      "text/html": [
       "<div>\n",
       "<style scoped>\n",
       "    .dataframe tbody tr th:only-of-type {\n",
       "        vertical-align: middle;\n",
       "    }\n",
       "\n",
       "    .dataframe tbody tr th {\n",
       "        vertical-align: top;\n",
       "    }\n",
       "\n",
       "    .dataframe thead th {\n",
       "        text-align: right;\n",
       "    }\n",
       "</style>\n",
       "<table border=\"1\" class=\"dataframe\">\n",
       "  <thead>\n",
       "    <tr style=\"text-align: right;\">\n",
       "      <th></th>\n",
       "      <th>Temperature</th>\n",
       "      <th>Depth Of Cut</th>\n",
       "      <th>Feed Rate</th>\n",
       "      <th>Lenght Of Cut</th>\n",
       "      <th>Load X</th>\n",
       "      <th>Load Y</th>\n",
       "    </tr>\n",
       "  </thead>\n",
       "  <tbody>\n",
       "    <tr>\n",
       "      <th>1</th>\n",
       "      <td>2011.467126</td>\n",
       "      <td>0.2</td>\n",
       "      <td>0.2</td>\n",
       "      <td>1.5</td>\n",
       "      <td>598346.0</td>\n",
       "      <td>671413.0</td>\n",
       "    </tr>\n",
       "    <tr>\n",
       "      <th>2</th>\n",
       "      <td>2014.513224</td>\n",
       "      <td>0.2</td>\n",
       "      <td>0.2</td>\n",
       "      <td>1.5</td>\n",
       "      <td>767689.0</td>\n",
       "      <td>738346.0</td>\n",
       "    </tr>\n",
       "    <tr>\n",
       "      <th>3</th>\n",
       "      <td>2014.976244</td>\n",
       "      <td>0.2</td>\n",
       "      <td>0.2</td>\n",
       "      <td>1.5</td>\n",
       "      <td>889873.0</td>\n",
       "      <td>138438.0</td>\n",
       "    </tr>\n",
       "    <tr>\n",
       "      <th>4</th>\n",
       "      <td>2015.108007</td>\n",
       "      <td>0.2</td>\n",
       "      <td>0.2</td>\n",
       "      <td>1.5</td>\n",
       "      <td>960976.0</td>\n",
       "      <td>14598.0</td>\n",
       "    </tr>\n",
       "    <tr>\n",
       "      <th>5</th>\n",
       "      <td>2016.710887</td>\n",
       "      <td>0.2</td>\n",
       "      <td>0.2</td>\n",
       "      <td>1.5</td>\n",
       "      <td>998679.0</td>\n",
       "      <td>141208.0</td>\n",
       "    </tr>\n",
       "  </tbody>\n",
       "</table>\n",
       "</div>"
      ],
      "text/plain": [
       "   Temperature  Depth Of Cut  Feed Rate  Lenght Of Cut    Load X    Load Y\n",
       "1  2011.467126           0.2        0.2            1.5  598346.0  671413.0\n",
       "2  2014.513224           0.2        0.2            1.5  767689.0  738346.0\n",
       "3  2014.976244           0.2        0.2            1.5  889873.0  138438.0\n",
       "4  2015.108007           0.2        0.2            1.5  960976.0   14598.0\n",
       "5  2016.710887           0.2        0.2            1.5  998679.0  141208.0"
      ]
     },
     "execution_count": 224,
     "metadata": {},
     "output_type": "execute_result"
    }
   ],
   "source": [
    "dataset_df_raw.head()"
   ]
  },
  {
   "cell_type": "markdown",
   "id": "1fc8dbea-456b-4c62-9059-ae690ba5da61",
   "metadata": {},
   "source": [
    "# Normalize, visualize and export"
   ]
  },
  {
   "cell_type": "code",
   "execution_count": 225,
   "id": "7b7c265d-4984-4cc4-bb1a-5c8dec85dd54",
   "metadata": {},
   "outputs": [
    {
     "data": {
      "text/html": [
       "<div>\n",
       "<style scoped>\n",
       "    .dataframe tbody tr th:only-of-type {\n",
       "        vertical-align: middle;\n",
       "    }\n",
       "\n",
       "    .dataframe tbody tr th {\n",
       "        vertical-align: top;\n",
       "    }\n",
       "\n",
       "    .dataframe thead th {\n",
       "        text-align: right;\n",
       "    }\n",
       "</style>\n",
       "<table border=\"1\" class=\"dataframe\">\n",
       "  <thead>\n",
       "    <tr style=\"text-align: right;\">\n",
       "      <th></th>\n",
       "      <th>Temperature</th>\n",
       "      <th>Depth Of Cut</th>\n",
       "      <th>Feed Rate</th>\n",
       "      <th>Lenght Of Cut</th>\n",
       "      <th>Load X</th>\n",
       "      <th>Load Y</th>\n",
       "    </tr>\n",
       "  </thead>\n",
       "  <tbody>\n",
       "    <tr>\n",
       "      <th>count</th>\n",
       "      <td>1103.000000</td>\n",
       "      <td>1103.000000</td>\n",
       "      <td>1103.000000</td>\n",
       "      <td>1103.000000</td>\n",
       "      <td>1103.000000</td>\n",
       "      <td>1103.000000</td>\n",
       "    </tr>\n",
       "    <tr>\n",
       "      <th>mean</th>\n",
       "      <td>2692.098038</td>\n",
       "      <td>0.345603</td>\n",
       "      <td>0.181596</td>\n",
       "      <td>1.359112</td>\n",
       "      <td>244974.863844</td>\n",
       "      <td>376696.265352</td>\n",
       "    </tr>\n",
       "    <tr>\n",
       "      <th>std</th>\n",
       "      <td>1556.426264</td>\n",
       "      <td>0.116225</td>\n",
       "      <td>0.051090</td>\n",
       "      <td>0.238655</td>\n",
       "      <td>179456.879596</td>\n",
       "      <td>299788.609445</td>\n",
       "    </tr>\n",
       "    <tr>\n",
       "      <th>min</th>\n",
       "      <td>1300.307656</td>\n",
       "      <td>0.200000</td>\n",
       "      <td>0.100000</td>\n",
       "      <td>1.000000</td>\n",
       "      <td>49.780000</td>\n",
       "      <td>0.782819</td>\n",
       "    </tr>\n",
       "    <tr>\n",
       "      <th>25%</th>\n",
       "      <td>2097.825635</td>\n",
       "      <td>0.200000</td>\n",
       "      <td>0.150000</td>\n",
       "      <td>1.000000</td>\n",
       "      <td>154605.500000</td>\n",
       "      <td>126048.500000</td>\n",
       "    </tr>\n",
       "    <tr>\n",
       "      <th>50%</th>\n",
       "      <td>2333.847117</td>\n",
       "      <td>0.300000</td>\n",
       "      <td>0.200000</td>\n",
       "      <td>1.500000</td>\n",
       "      <td>222856.000000</td>\n",
       "      <td>231165.000000</td>\n",
       "    </tr>\n",
       "    <tr>\n",
       "      <th>75%</th>\n",
       "      <td>2789.895361</td>\n",
       "      <td>0.450000</td>\n",
       "      <td>0.200000</td>\n",
       "      <td>1.500000</td>\n",
       "      <td>300831.000000</td>\n",
       "      <td>651220.000000</td>\n",
       "    </tr>\n",
       "    <tr>\n",
       "      <th>max</th>\n",
       "      <td>15091.871290</td>\n",
       "      <td>0.500000</td>\n",
       "      <td>0.500000</td>\n",
       "      <td>1.600000</td>\n",
       "      <td>998679.000000</td>\n",
       "      <td>999488.000000</td>\n",
       "    </tr>\n",
       "  </tbody>\n",
       "</table>\n",
       "</div>"
      ],
      "text/plain": [
       "        Temperature  Depth Of Cut    Feed Rate  Lenght Of Cut         Load X  \\\n",
       "count   1103.000000   1103.000000  1103.000000    1103.000000    1103.000000   \n",
       "mean    2692.098038      0.345603     0.181596       1.359112  244974.863844   \n",
       "std     1556.426264      0.116225     0.051090       0.238655  179456.879596   \n",
       "min     1300.307656      0.200000     0.100000       1.000000      49.780000   \n",
       "25%     2097.825635      0.200000     0.150000       1.000000  154605.500000   \n",
       "50%     2333.847117      0.300000     0.200000       1.500000  222856.000000   \n",
       "75%     2789.895361      0.450000     0.200000       1.500000  300831.000000   \n",
       "max    15091.871290      0.500000     0.500000       1.600000  998679.000000   \n",
       "\n",
       "              Load Y  \n",
       "count    1103.000000  \n",
       "mean   376696.265352  \n",
       "std    299788.609445  \n",
       "min         0.782819  \n",
       "25%    126048.500000  \n",
       "50%    231165.000000  \n",
       "75%    651220.000000  \n",
       "max    999488.000000  "
      ]
     },
     "execution_count": 225,
     "metadata": {},
     "output_type": "execute_result"
    }
   ],
   "source": [
    "# Compute basic statistics for different variables in the dataset.\n",
    "dataset_df_raw.describe()"
   ]
  },
  {
   "cell_type": "code",
   "execution_count": 226,
   "id": "1a741f08-b21e-4175-a191-3db2bb118ca5",
   "metadata": {},
   "outputs": [
    {
     "data": {
      "text/plain": [
       "Text(0.5, 1.0, 'Load Y')"
      ]
     },
     "execution_count": 226,
     "metadata": {},
     "output_type": "execute_result"
    },
    {
     "data": {
      "image/png": "[encoded data removed]",
      "text/plain": [
       "<Figure size 1500x500 with 3 Axes>"
      ]
     },
     "metadata": {},
     "output_type": "display_data"
    }
   ],
   "source": [
    "# Display distributions of Temperature and 2 output variables.\n",
    "fig, (ax1, ax2, ax3) = plt.subplots(1, 3, figsize=(15, 5))\n",
    "\n",
    "dataset_df_raw[\"Temperature\"].hist(ax=ax1)\n",
    "ax1.set_title('Temperature')\n",
    "\n",
    "dataset_df_raw[\"Load X\"].hist(ax=ax2)\n",
    "ax2.set_title('Load X')\n",
    "\n",
    "dataset_df_raw[\"Load Y\"].hist(ax=ax3)\n",
    "ax3.set_title('Load Y')"
   ]
  },
  {
   "cell_type": "code",
   "execution_count": 227,
   "id": "0674384b-1956-4e54-8488-9c0620cd18a6",
   "metadata": {},
   "outputs": [
    {
     "data": {
      "image/png": "[encoded data removed]",
      "text/plain": [
       "<Figure size 640x480 with 1 Axes>"
      ]
     },
     "metadata": {},
     "output_type": "display_data"
    }
   ],
   "source": [
    "dataset_df_raw.plot(x=\"Temperature\", y=[\"Load X\", \"Load Y\"], kind='kde')\n",
    "plt.show()"
   ]
  },
  {
   "cell_type": "code",
   "execution_count": 228,
   "id": "9f05659d-36c9-4333-99b7-0f0a38ced2cd",
   "metadata": {},
   "outputs": [
    {
     "data": {
      "image/png": "[encoded data removed]",
      "text/plain": [
       "<Figure size 640x480 with 1 Axes>"
      ]
     },
     "metadata": {},
     "output_type": "display_data"
    }
   ],
   "source": [
    "dataset_df_raw.plot(x=\"Temperature\", y=[\"Load X\", \"Load Y\"], kind='hist')\n",
    "plt.show()"
   ]
  },
  {
   "cell_type": "code",
   "execution_count": 229,
   "id": "6e6c4cb1-3f22-4ad8-a925-0b9fc9fab129",
   "metadata": {},
   "outputs": [],
   "source": [
    "# Do a BoxCox transformations to achieve a more Gaussian distributions.\n",
    "dataset_transformed_df = dataset_df_raw.copy()\n",
    "dataset_transformed_df['Temperature'], lambda_temp = stats.boxcox(dataset_transformed_df['Temperature'])\n",
    "dataset_transformed_df['Load X'], lambda_load_x = stats.boxcox(dataset_transformed_df['Load X'])\n",
    "dataset_transformed_df['Load Y'], lambda_load_y = stats.boxcox(dataset_transformed_df['Load Y'])"
   ]
  },
  {
   "cell_type": "code",
   "execution_count": 230,
   "id": "4a566a17-7708-4aad-919d-bb2428a764bc",
   "metadata": {},
   "outputs": [
    {
     "data": {
      "text/plain": [
       "Text(0.5, 1.0, 'Load Y')"
      ]
     },
     "execution_count": 230,
     "metadata": {},
     "output_type": "execute_result"
    },
    {
     "data": {
      "image/png": "[encoded data removed]",
      "text/plain": [
       "<Figure size 1500x500 with 3 Axes>"
      ]
     },
     "metadata": {},
     "output_type": "display_data"
    }
   ],
   "source": [
    "fig, (ax1, ax2, ax3) = plt.subplots(1, 3, figsize=(15, 5))\n",
    "\n",
    "dataset_transformed_df[\"Temperature\"].hist(ax=ax1)\n",
    "ax1.set_title('Temperature')\n",
    "\n",
    "dataset_transformed_df[\"Load X\"].hist(ax=ax2)\n",
    "ax2.set_title('Load X')\n",
    "\n",
    "dataset_transformed_df[\"Load Y\"].hist(ax=ax3)\n",
    "ax3.set_title('Load Y')"
   ]
  },
  {
   "cell_type": "code",
   "execution_count": 231,
   "id": "40bff2f2-cc9e-41ee-8d63-fbd9bb143939",
   "metadata": {},
   "outputs": [
    {
     "name": "stdout",
     "output_type": "stream",
     "text": [
      "Lambda Temperature:  -1.250021464440798\n",
      "Lambda Load X:  0.5219071729291129\n",
      "Lambda Load Y:  0.40813414622179595\n"
     ]
    }
   ],
   "source": [
    "# Print out the BoxCox transformation lambda parameters, to inverse the transformatio during the evaluation.\n",
    "print(\"Lambda Temperature: \", lambda_temp)\n",
    "print(\"Lambda Load X: \", lambda_load_x)\n",
    "print(\"Lambda Load Y: \", lambda_load_y)"
   ]
  },
  {
   "cell_type": "code",
   "execution_count": 232,
   "id": "c1bdb9fa-0c63-4b2e-87da-2820aaed7f0e",
   "metadata": {},
   "outputs": [
    {
     "data": {
      "image/png": "[encoded data removed]",
      "text/plain": [
       "<Figure size 640x480 with 1 Axes>"
      ]
     },
     "metadata": {},
     "output_type": "display_data"
    }
   ],
   "source": [
    "dataset_transformed_df.plot(x=\"Temperature\", y=[\"Load X\", \"Load Y\"], kind='kde')\n",
    "plt.show()"
   ]
  },
  {
   "cell_type": "code",
   "execution_count": 233,
   "id": "52a0f2b4-0b59-4bbf-9ec6-2c8c3457a110",
   "metadata": {},
   "outputs": [],
   "source": [
    "# Clean the outliers using IQR method.\n",
    "# Outliers are defined as those outside of range defined by (1.5 x IQR + Q3) and (1.5 x IQR - Q1).\n",
    "def clean_iqr_outliers(df, column):\n",
    "    q1 = df[column].quantile(0.25)\n",
    "    q3 = df[column].quantile(0.75)\n",
    "    iqr = q3-q1\n",
    "\n",
    "    df = df.loc[lambda df: ~((df[column] < (q1 - 1.5*iqr)) | (df[column] > (q3 + 1.5*iqr)))]\n",
    "    \n",
    "    return df"
   ]
  },
  {
   "cell_type": "code",
   "execution_count": 234,
   "id": "09d830f0-72c1-4274-9177-c3adce4fc26c",
   "metadata": {},
   "outputs": [],
   "source": [
    "iqr_iterations = 3\n",
    "for _ in range(iqr_iterations):\n",
    "    dataset_transformed_df = clean_iqr_outliers(dataset_transformed_df, 'Load X')\n",
    "    dataset_transformed_df = clean_iqr_outliers(dataset_transformed_df, 'Load Y')\n",
    "    dataset_transformed_df = clean_iqr_outliers(dataset_transformed_df, 'Temperature')"
   ]
  },
  {
   "cell_type": "code",
   "execution_count": 235,
   "id": "b2966b93-69c9-4460-a47f-f1fe0578c2ef",
   "metadata": {},
   "outputs": [
    {
     "data": {
      "text/plain": [
       "Text(0.5, 1.0, 'Load Y')"
      ]
     },
     "execution_count": 235,
     "metadata": {},
     "output_type": "execute_result"
    },
    {
     "data": {
      "image/png": "[encoded data removed]",
      "text/plain": [
       "<Figure size 1500x500 with 3 Axes>"
      ]
     },
     "metadata": {},
     "output_type": "display_data"
    }
   ],
   "source": [
    "fig, (ax1, ax2, ax3) = plt.subplots(1, 3, figsize=(15, 5))\n",
    "\n",
    "dataset_transformed_df[\"Temperature\"].hist(ax=ax1)\n",
    "ax1.set_title('Temperature')\n",
    "\n",
    "dataset_transformed_df[\"Load X\"].hist(ax=ax2)\n",
    "ax2.set_title('Load X')\n",
    "\n",
    "dataset_transformed_df[\"Load Y\"].hist(ax=ax3)\n",
    "ax3.set_title('Load Y')"
   ]
  },
  {
   "cell_type": "code",
   "execution_count": 236,
   "id": "7d4ad1bc-7d83-43ff-9ea5-35fe5d820008",
   "metadata": {},
   "outputs": [
    {
     "name": "stdout",
     "output_type": "stream",
     "text": [
      "Minimal Temperature:  0.7999129740607918\n",
      "Maximal Temperature:  0.79996392605093\n",
      "Minimal Load X:  650.3838414957692\n",
      "Maximal Load X:  1831.6845429765622\n",
      "Minimal Load Y:  -0.23301682607607901\n",
      "Maximal Load Y:  686.0612810310728\n"
     ]
    }
   ],
   "source": [
    "# Extrapolate relevant min and max values for reverse transformations during evaluation.\n",
    "print(\"Minimal Temperature: \", dataset_transformed_df[\"Temperature\"].min())\n",
    "print(\"Maximal Temperature: \", dataset_transformed_df[\"Temperature\"].max())\n",
    "print(\"Minimal Load X: \", dataset_transformed_df[\"Load X\"].min())\n",
    "print(\"Maximal Load X: \", dataset_transformed_df[\"Load X\"].max())\n",
    "print(\"Minimal Load Y: \", dataset_transformed_df[\"Load Y\"].min())\n",
    "print(\"Maximal Load Y: \", dataset_transformed_df[\"Load Y\"].max())"
   ]
  },
  {
   "cell_type": "code",
   "execution_count": 237,
   "id": "e1cc6ec8-d692-40c1-ab86-f95c326c5c1e",
   "metadata": {},
   "outputs": [],
   "source": [
    "def normalize_min_max(df, var_name):\n",
    "    df[var_name]=(df[var_name]-df[var_name].min())/(df[var_name].max()-df[var_name].min())\n",
    "    return df"
   ]
  },
  {
   "cell_type": "code",
   "execution_count": 238,
   "id": "1c1117e9-2f35-4c6f-9788-01741669eeb2",
   "metadata": {},
   "outputs": [],
   "source": [
    "# Normalize the variables that are not in the 0-1 range, except the Length of Cut as it is not too large.\n",
    "dataset_transformed_df = normalize_min_max(dataset_transformed_df, 'Temperature')\n",
    "dataset_transformed_df = normalize_min_max(dataset_transformed_df, 'Load X')\n",
    "dataset_transformed_df = normalize_min_max(dataset_transformed_df, 'Load Y')"
   ]
  },
  {
   "cell_type": "code",
   "execution_count": 239,
   "id": "35d3e228-f694-459b-8c64-e4aeebe0a530",
   "metadata": {},
   "outputs": [
    {
     "data": {
      "text/html": [
       "<div>\n",
       "<style scoped>\n",
       "    .dataframe tbody tr th:only-of-type {\n",
       "        vertical-align: middle;\n",
       "    }\n",
       "\n",
       "    .dataframe tbody tr th {\n",
       "        vertical-align: top;\n",
       "    }\n",
       "\n",
       "    .dataframe thead th {\n",
       "        text-align: right;\n",
       "    }\n",
       "</style>\n",
       "<table border=\"1\" class=\"dataframe\">\n",
       "  <thead>\n",
       "    <tr style=\"text-align: right;\">\n",
       "      <th></th>\n",
       "      <th>Temperature</th>\n",
       "      <th>Depth Of Cut</th>\n",
       "      <th>Feed Rate</th>\n",
       "      <th>Lenght Of Cut</th>\n",
       "      <th>Load X</th>\n",
       "      <th>Load Y</th>\n",
       "    </tr>\n",
       "  </thead>\n",
       "  <tbody>\n",
       "    <tr>\n",
       "      <th>count</th>\n",
       "      <td>890.000000</td>\n",
       "      <td>890.000000</td>\n",
       "      <td>890.000000</td>\n",
       "      <td>890.000000</td>\n",
       "      <td>890.000000</td>\n",
       "      <td>890.000000</td>\n",
       "    </tr>\n",
       "    <tr>\n",
       "      <th>mean</th>\n",
       "      <td>0.533272</td>\n",
       "      <td>0.344775</td>\n",
       "      <td>0.179551</td>\n",
       "      <td>1.357191</td>\n",
       "      <td>0.461797</td>\n",
       "      <td>0.607139</td>\n",
       "    </tr>\n",
       "    <tr>\n",
       "      <th>std</th>\n",
       "      <td>0.207130</td>\n",
       "      <td>0.115713</td>\n",
       "      <td>0.032652</td>\n",
       "      <td>0.240310</td>\n",
       "      <td>0.174257</td>\n",
       "      <td>0.247626</td>\n",
       "    </tr>\n",
       "    <tr>\n",
       "      <th>min</th>\n",
       "      <td>0.000000</td>\n",
       "      <td>0.200000</td>\n",
       "      <td>0.100000</td>\n",
       "      <td>1.000000</td>\n",
       "      <td>0.000000</td>\n",
       "      <td>0.000000</td>\n",
       "    </tr>\n",
       "    <tr>\n",
       "      <th>25%</th>\n",
       "      <td>0.363543</td>\n",
       "      <td>0.200000</td>\n",
       "      <td>0.150000</td>\n",
       "      <td>1.000000</td>\n",
       "      <td>0.324390</td>\n",
       "      <td>0.425502</td>\n",
       "    </tr>\n",
       "    <tr>\n",
       "      <th>50%</th>\n",
       "      <td>0.500254</td>\n",
       "      <td>0.300000</td>\n",
       "      <td>0.200000</td>\n",
       "      <td>1.500000</td>\n",
       "      <td>0.473182</td>\n",
       "      <td>0.532778</td>\n",
       "    </tr>\n",
       "    <tr>\n",
       "      <th>75%</th>\n",
       "      <td>0.671287</td>\n",
       "      <td>0.450000</td>\n",
       "      <td>0.200000</td>\n",
       "      <td>1.500000</td>\n",
       "      <td>0.596927</td>\n",
       "      <td>0.852903</td>\n",
       "    </tr>\n",
       "    <tr>\n",
       "      <th>max</th>\n",
       "      <td>1.000000</td>\n",
       "      <td>0.500000</td>\n",
       "      <td>0.200000</td>\n",
       "      <td>1.600000</td>\n",
       "      <td>1.000000</td>\n",
       "      <td>1.000000</td>\n",
       "    </tr>\n",
       "  </tbody>\n",
       "</table>\n",
       "</div>"
      ],
      "text/plain": [
       "       Temperature  Depth Of Cut   Feed Rate  Lenght Of Cut      Load X  \\\n",
       "count   890.000000    890.000000  890.000000     890.000000  890.000000   \n",
       "mean      0.533272      0.344775    0.179551       1.357191    0.461797   \n",
       "std       0.207130      0.115713    0.032652       0.240310    0.174257   \n",
       "min       0.000000      0.200000    0.100000       1.000000    0.000000   \n",
       "25%       0.363543      0.200000    0.150000       1.000000    0.324390   \n",
       "50%       0.500254      0.300000    0.200000       1.500000    0.473182   \n",
       "75%       0.671287      0.450000    0.200000       1.500000    0.596927   \n",
       "max       1.000000      0.500000    0.200000       1.600000    1.000000   \n",
       "\n",
       "           Load Y  \n",
       "count  890.000000  \n",
       "mean     0.607139  \n",
       "std      0.247626  \n",
       "min      0.000000  \n",
       "25%      0.425502  \n",
       "50%      0.532778  \n",
       "75%      0.852903  \n",
       "max      1.000000  "
      ]
     },
     "execution_count": 239,
     "metadata": {},
     "output_type": "execute_result"
    }
   ],
   "source": [
    "dataset_transformed_df.describe()"
   ]
  },
  {
   "cell_type": "code",
   "execution_count": 240,
   "id": "4a326b8c-1f75-4f1e-bc11-1de1c567ca75",
   "metadata": {},
   "outputs": [
    {
     "data": {
      "text/html": [
       "<div>\n",
       "<style scoped>\n",
       "    .dataframe tbody tr th:only-of-type {\n",
       "        vertical-align: middle;\n",
       "    }\n",
       "\n",
       "    .dataframe tbody tr th {\n",
       "        vertical-align: top;\n",
       "    }\n",
       "\n",
       "    .dataframe thead th {\n",
       "        text-align: right;\n",
       "    }\n",
       "</style>\n",
       "<table border=\"1\" class=\"dataframe\">\n",
       "  <thead>\n",
       "    <tr style=\"text-align: right;\">\n",
       "      <th></th>\n",
       "      <th>Temperature</th>\n",
       "      <th>Depth Of Cut</th>\n",
       "      <th>Feed Rate</th>\n",
       "      <th>Lenght Of Cut</th>\n",
       "      <th>Load X</th>\n",
       "      <th>Load Y</th>\n",
       "    </tr>\n",
       "  </thead>\n",
       "  <tbody>\n",
       "    <tr>\n",
       "      <th>6</th>\n",
       "      <td>0.278499</td>\n",
       "      <td>0.2</td>\n",
       "      <td>0.2</td>\n",
       "      <td>1.5</td>\n",
       "      <td>0.110789</td>\n",
       "      <td>0.446527</td>\n",
       "    </tr>\n",
       "    <tr>\n",
       "      <th>7</th>\n",
       "      <td>0.277456</td>\n",
       "      <td>0.2</td>\n",
       "      <td>0.2</td>\n",
       "      <td>1.5</td>\n",
       "      <td>0.149311</td>\n",
       "      <td>0.503198</td>\n",
       "    </tr>\n",
       "    <tr>\n",
       "      <th>8</th>\n",
       "      <td>0.279547</td>\n",
       "      <td>0.2</td>\n",
       "      <td>0.2</td>\n",
       "      <td>1.5</td>\n",
       "      <td>0.155638</td>\n",
       "      <td>0.501043</td>\n",
       "    </tr>\n",
       "    <tr>\n",
       "      <th>9</th>\n",
       "      <td>0.280332</td>\n",
       "      <td>0.2</td>\n",
       "      <td>0.2</td>\n",
       "      <td>1.5</td>\n",
       "      <td>0.194172</td>\n",
       "      <td>0.548702</td>\n",
       "    </tr>\n",
       "    <tr>\n",
       "      <th>10</th>\n",
       "      <td>0.282088</td>\n",
       "      <td>0.2</td>\n",
       "      <td>0.2</td>\n",
       "      <td>1.5</td>\n",
       "      <td>0.204513</td>\n",
       "      <td>0.559044</td>\n",
       "    </tr>\n",
       "  </tbody>\n",
       "</table>\n",
       "</div>"
      ],
      "text/plain": [
       "    Temperature  Depth Of Cut  Feed Rate  Lenght Of Cut    Load X    Load Y\n",
       "6      0.278499           0.2        0.2            1.5  0.110789  0.446527\n",
       "7      0.277456           0.2        0.2            1.5  0.149311  0.503198\n",
       "8      0.279547           0.2        0.2            1.5  0.155638  0.501043\n",
       "9      0.280332           0.2        0.2            1.5  0.194172  0.548702\n",
       "10     0.282088           0.2        0.2            1.5  0.204513  0.559044"
      ]
     },
     "execution_count": 240,
     "metadata": {},
     "output_type": "execute_result"
    }
   ],
   "source": [
    "dataset_transformed_df.head()"
   ]
  },
  {
   "cell_type": "code",
   "execution_count": 241,
   "id": "efc33aea-b214-44f6-b423-0a9b218a17be",
   "metadata": {},
   "outputs": [
    {
     "data": {
      "text/plain": [
       "Text(0.5, 1.0, 'Load Y')"
      ]
     },
     "execution_count": 241,
     "metadata": {},
     "output_type": "execute_result"
    },
    {
     "data": {
      "image/png": "[encoded data removed]",
      "text/plain": [
       "<Figure size 1500x500 with 3 Axes>"
      ]
     },
     "metadata": {},
     "output_type": "display_data"
    }
   ],
   "source": [
    "fig, (ax1, ax2, ax3) = plt.subplots(1, 3, figsize=(15, 5))\n",
    "\n",
    "dataset_transformed_df[\"Temperature\"].hist(ax=ax1)\n",
    "ax1.set_title('Temperature')\n",
    "\n",
    "dataset_transformed_df[\"Load X\"].hist(ax=ax2)\n",
    "ax2.set_title('Load X')\n",
    "\n",
    "dataset_transformed_df[\"Load Y\"].hist(ax=ax3)\n",
    "ax3.set_title('Load Y')"
   ]
  },
  {
   "cell_type": "code",
   "execution_count": 242,
   "id": "4967b329-2dcc-41cf-bd0a-3a3d830b6cbe",
   "metadata": {},
   "outputs": [
    {
     "data": {
      "image/png": "[encoded data removed]",
      "text/plain": [
       "<Figure size 640x480 with 1 Axes>"
      ]
     },
     "metadata": {},
     "output_type": "display_data"
    }
   ],
   "source": [
    "dataset_transformed_df.plot(x=\"Temperature\", y=[\"Load X\", \"Load Y\"], kind='kde')\n",
    "plt.show()"
   ]
  },
  {
   "cell_type": "code",
   "execution_count": 251,
   "id": "1ecb3c76-7797-4e39-8bad-4c1922e30da7",
   "metadata": {},
   "outputs": [],
   "source": [
    "# Do one inverse transformation, just for demonstration.\n",
    "load_y_min = -0.23301682607607901\n",
    "load_y_max = 686.0612810310728\n",
    "test_column = dataset_transformed_df['Load Y'].copy()\n",
    "test_column = test_column * (load_y_max - load_y_min) + load_y_min\n",
    "test_column = inv_boxcox(test_column, lambda_load_y)"
   ]
  },
  {
   "cell_type": "code",
   "execution_count": 252,
   "id": "282e7ba3-7365-4b71-abd8-cbffdf457d6b",
   "metadata": {},
   "outputs": [
    {
     "data": {
      "text/plain": [
       "6     139985.0\n",
       "7     187225.0\n",
       "8     185279.0\n",
       "9     231165.0\n",
       "10    241922.0\n",
       "        ...   \n",
       "85    124135.0\n",
       "86    124144.0\n",
       "87    124107.0\n",
       "88    124193.0\n",
       "89    124393.0\n",
       "Name: Load Y, Length: 890, dtype: float64"
      ]
     },
     "execution_count": 252,
     "metadata": {},
     "output_type": "execute_result"
    }
   ],
   "source": [
    "test_column"
   ]
  },
  {
   "cell_type": "code",
   "execution_count": 253,
   "id": "a79e97e2-c584-4c3a-b2b9-ebd1906a936c",
   "metadata": {},
   "outputs": [
    {
     "data": {
      "text/plain": [
       "6     0.446527\n",
       "7     0.503198\n",
       "8     0.501043\n",
       "9     0.548702\n",
       "10    0.559044\n",
       "        ...   \n",
       "85    0.425001\n",
       "86    0.425014\n",
       "87    0.424962\n",
       "88    0.425083\n",
       "89    0.425364\n",
       "Name: Load Y, Length: 890, dtype: float64"
      ]
     },
     "execution_count": 253,
     "metadata": {},
     "output_type": "execute_result"
    }
   ],
   "source": [
    "dataset_transformed_df['Load Y']"
   ]
  },
  {
   "cell_type": "code",
   "execution_count": 254,
   "id": "9c7ec8be-fc4d-4857-963f-8c041473f354",
   "metadata": {},
   "outputs": [
    {
     "data": {
      "text/plain": [
       "1     671413.0\n",
       "2     738346.0\n",
       "3     138438.0\n",
       "4      14598.0\n",
       "5     141208.0\n",
       "        ...   \n",
       "86    124144.0\n",
       "87    124107.0\n",
       "88    124193.0\n",
       "89    124393.0\n",
       "90    124601.0\n",
       "Name: Load Y, Length: 1103, dtype: float64"
      ]
     },
     "execution_count": 254,
     "metadata": {},
     "output_type": "execute_result"
    }
   ],
   "source": [
    "dataset_df_raw['Load Y']"
   ]
  },
  {
   "cell_type": "code",
   "execution_count": 255,
   "id": "e6166e03-dc1a-4636-9c89-a9b2c2b6d623",
   "metadata": {},
   "outputs": [],
   "source": [
    "# Compute and visualize covarience and correlation matrices.\n",
    "features = [\"Temperature\", \"Depth Of Cut\", \"Feed Rate\", \"Lenght Of Cut\"]\n",
    "labels = [\"Load X\", \"Load Y\"]"
   ]
  },
  {
   "cell_type": "code",
   "execution_count": 256,
   "id": "3829b5f9-dee8-428d-94a5-d887548da4ff",
   "metadata": {},
   "outputs": [],
   "source": [
    "# Convert dataset into numpy arrays.\n",
    "X = dataset_transformed_df[features].to_numpy()\n",
    "y = dataset_transformed_df[labels].to_numpy()"
   ]
  },
  {
   "cell_type": "code",
   "execution_count": 257,
   "id": "b874dc7f-e63c-435a-a78d-94877f8b2972",
   "metadata": {},
   "outputs": [],
   "source": [
    "X_y = np.concatenate((X, y), axis = 1)"
   ]
  },
  {
   "cell_type": "code",
   "execution_count": 258,
   "id": "f887b693-31c6-4e0f-b454-e1c31efd883f",
   "metadata": {},
   "outputs": [],
   "source": [
    "X_y_labels = features + labels"
   ]
  },
  {
   "cell_type": "code",
   "execution_count": 259,
   "id": "2d55f74e-05bb-45c1-9685-36ffdb1e6e7e",
   "metadata": {},
   "outputs": [],
   "source": [
    "# Compute the covariance matrix.\n",
    "cov_matrix = np.cov(X_y.T, bias = True)\n",
    "cov_matrix = np.around(cov_matrix, 2)"
   ]
  },
  {
   "cell_type": "code",
   "execution_count": 260,
   "id": "150413f2-af0a-4e60-a306-320d0c4b0d09",
   "metadata": {},
   "outputs": [
    {
     "data": {
      "image/png": "[encoded data removed]",
      "text/plain": [
       "<Figure size 640x480 with 1 Axes>"
      ]
     },
     "metadata": {},
     "output_type": "display_data"
    }
   ],
   "source": [
    "plot_heatmap(cov_matrix, X_y_labels, 'Covariance Matrix')"
   ]
  },
  {
   "cell_type": "code",
   "execution_count": 261,
   "id": "5ec931b1-3ffd-458f-895b-8c0570f971e2",
   "metadata": {},
   "outputs": [],
   "source": [
    "# Compute the correlation matrix.\n",
    "corr_matrix = np.corrcoef(X_y.T)\n",
    "corr_matrix = np.around(corr_matrix, 2)"
   ]
  },
  {
   "cell_type": "code",
   "execution_count": 262,
   "id": "c74b401d-07de-4ee8-92a0-99c32af89ea9",
   "metadata": {},
   "outputs": [
    {
     "data": {
      "image/png": "[encoded data removed]",
      "text/plain": [
       "<Figure size 640x480 with 1 Axes>"
      ]
     },
     "metadata": {},
     "output_type": "display_data"
    }
   ],
   "source": [
    "plot_heatmap(corr_matrix, X_y_labels, 'Correlation Matrix')"
   ]
  },
  {
   "cell_type": "code",
   "execution_count": 263,
   "id": "d3acdb57-69ce-4140-956c-7cf0ab70c148",
   "metadata": {},
   "outputs": [
    {
     "data": {
      "text/html": [
       "<div>\n",
       "<style scoped>\n",
       "    .dataframe tbody tr th:only-of-type {\n",
       "        vertical-align: middle;\n",
       "    }\n",
       "\n",
       "    .dataframe tbody tr th {\n",
       "        vertical-align: top;\n",
       "    }\n",
       "\n",
       "    .dataframe thead th {\n",
       "        text-align: right;\n",
       "    }\n",
       "</style>\n",
       "<table border=\"1\" class=\"dataframe\">\n",
       "  <thead>\n",
       "    <tr style=\"text-align: right;\">\n",
       "      <th></th>\n",
       "      <th>Temperature</th>\n",
       "      <th>Depth Of Cut</th>\n",
       "      <th>Feed Rate</th>\n",
       "      <th>Lenght Of Cut</th>\n",
       "      <th>Load X</th>\n",
       "      <th>Load Y</th>\n",
       "    </tr>\n",
       "  </thead>\n",
       "  <tbody>\n",
       "    <tr>\n",
       "      <th>6</th>\n",
       "      <td>0.278499</td>\n",
       "      <td>0.2</td>\n",
       "      <td>0.2</td>\n",
       "      <td>1.5</td>\n",
       "      <td>0.110789</td>\n",
       "      <td>0.446527</td>\n",
       "    </tr>\n",
       "    <tr>\n",
       "      <th>7</th>\n",
       "      <td>0.277456</td>\n",
       "      <td>0.2</td>\n",
       "      <td>0.2</td>\n",
       "      <td>1.5</td>\n",
       "      <td>0.149311</td>\n",
       "      <td>0.503198</td>\n",
       "    </tr>\n",
       "    <tr>\n",
       "      <th>8</th>\n",
       "      <td>0.279547</td>\n",
       "      <td>0.2</td>\n",
       "      <td>0.2</td>\n",
       "      <td>1.5</td>\n",
       "      <td>0.155638</td>\n",
       "      <td>0.501043</td>\n",
       "    </tr>\n",
       "    <tr>\n",
       "      <th>9</th>\n",
       "      <td>0.280332</td>\n",
       "      <td>0.2</td>\n",
       "      <td>0.2</td>\n",
       "      <td>1.5</td>\n",
       "      <td>0.194172</td>\n",
       "      <td>0.548702</td>\n",
       "    </tr>\n",
       "    <tr>\n",
       "      <th>10</th>\n",
       "      <td>0.282088</td>\n",
       "      <td>0.2</td>\n",
       "      <td>0.2</td>\n",
       "      <td>1.5</td>\n",
       "      <td>0.204513</td>\n",
       "      <td>0.559044</td>\n",
       "    </tr>\n",
       "  </tbody>\n",
       "</table>\n",
       "</div>"
      ],
      "text/plain": [
       "    Temperature  Depth Of Cut  Feed Rate  Lenght Of Cut    Load X    Load Y\n",
       "6      0.278499           0.2        0.2            1.5  0.110789  0.446527\n",
       "7      0.277456           0.2        0.2            1.5  0.149311  0.503198\n",
       "8      0.279547           0.2        0.2            1.5  0.155638  0.501043\n",
       "9      0.280332           0.2        0.2            1.5  0.194172  0.548702\n",
       "10     0.282088           0.2        0.2            1.5  0.204513  0.559044"
      ]
     },
     "execution_count": 263,
     "metadata": {},
     "output_type": "execute_result"
    }
   ],
   "source": [
    "dataset_transformed_df.head()"
   ]
  },
  {
   "cell_type": "code",
   "execution_count": 264,
   "id": "d8a6f677-7ae6-4642-8b31-9cda937fb3a4",
   "metadata": {},
   "outputs": [],
   "source": [
    "# Split the cleaned and transformed data into training and testing sets with a 90/10 ratio.\n",
    "train_df, test_df = train_test_split(dataset_transformed_df, test_size=0.1, random_state=42)"
   ]
  },
  {
   "cell_type": "code",
   "execution_count": 265,
   "id": "aa179024-9496-4596-8212-52c5d8eca303",
   "metadata": {},
   "outputs": [],
   "source": [
    "# Export the data sets.\n",
    "train_df.to_csv('./data/dataset_train.csv', index=False)\n",
    "test_df.to_csv('./data/dataset_test.csv', index=False)"
   ]
  }
 ],
 "metadata": {
  "kernelspec": {
   "display_name": "cutting_force",
   "language": "python",
   "name": "cutting_force"
  },
  "language_info": {
   "codemirror_mode": {
    "name": "ipython",
    "version": 3
   },
   "file_extension": ".py",
   "mimetype": "text/x-python",
   "name": "python",
   "nbconvert_exporter": "python",
   "pygments_lexer": "ipython3",
   "version": "3.8.10"
  }
 },
 "nbformat": 4,
 "nbformat_minor": 5
}
